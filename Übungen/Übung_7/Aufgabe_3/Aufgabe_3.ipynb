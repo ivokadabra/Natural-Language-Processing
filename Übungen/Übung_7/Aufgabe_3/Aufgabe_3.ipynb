{
 "cells": [
  {
   "cell_type": "markdown",
   "id": "b4643834",
   "metadata": {},
   "source": [
    "##### Die Wahrscheinlichkeiten 𝑃(𝑤), 𝑃(𝑐) und 𝑃(𝑤, 𝑐) für jedes Wort 𝑤 und jedes Kontextwort 𝑐;"
   ]
  },
  {
   "cell_type": "markdown",
   "id": "a1c81f48",
   "metadata": {},
   "source": [
    "#### -P(w):"
   ]
  },
  {
   "cell_type": "markdown",
   "id": "af85d8ac",
   "metadata": {},
   "source": [
    "\\begin{equation*}\n",
    "P(Apfel)=\n",
    "\\frac{\\sum_{i=1}^W f}{\\sum_{i=1}^W \\sum_{i=1}^C f}=\n",
    "\\frac{185}{555}=0.3333\n",
    "\\end{equation*}\n"
   ]
  },
  {
   "cell_type": "markdown",
   "id": "50af3b88",
   "metadata": {},
   "source": [
    "\\begin{equation*}\n",
    "P(Kirsch)=\n",
    "\\frac{\\sum_{i=1}^W f}{\\sum_{i=1}^W \\sum_{i=1}^C f}=\n",
    "\\frac{156}{555}=0.28\n",
    "\\end{equation*}\n"
   ]
  },
  {
   "cell_type": "markdown",
   "id": "04c0952f",
   "metadata": {},
   "source": [
    "\\begin{equation*}\n",
    "P(Atom)=\n",
    "\\frac{\\sum_{i=1}^W f}{\\sum_{i=1}^W \\sum_{i=1}^C f}=\n",
    "\\frac{156}{555}=0.201\n",
    "\\end{equation*}"
   ]
  },
  {
   "cell_type": "markdown",
   "id": "14267f15",
   "metadata": {},
   "source": [
    "\\begin{equation*}\n",
    "P(Kohle)=\n",
    "\\frac{\\sum_{i=1}^W f}{\\sum_{i=1}^W \\sum_{i=1}^C f}=\n",
    "\\frac{102}{555}=0.183\n",
    "\\end{equation*}"
   ]
  },
  {
   "cell_type": "markdown",
   "id": "051c7b4a",
   "metadata": {},
   "source": [
    "#### -P(c):"
   ]
  },
  {
   "cell_type": "markdown",
   "id": "1567cd94",
   "metadata": {},
   "source": [
    "\\begin{equation*}\n",
    "P(Saft)=\n",
    "\\frac{\\sum_{i=1}^C f}{\\sum_{i=1}^W \\sum_{i=1}^C f}=\n",
    "\\frac{66}{555}=0.11\n",
    "\\end{equation*}"
   ]
  },
  {
   "cell_type": "markdown",
   "id": "104eb539",
   "metadata": {},
   "source": [
    "\\begin{equation*}\n",
    "P(Kuchen)=\n",
    "\\frac{\\sum_{i=1}^C f}{\\sum_{i=1}^W \\sum_{i=1}^C f}=\n",
    "\\frac{190}{555}=0.343\n",
    "\\end{equation*}"
   ]
  },
  {
   "cell_type": "markdown",
   "id": "70394f7e",
   "metadata": {},
   "source": [
    "\\begin{equation*}\n",
    "P(Kern)=\n",
    "\\frac{\\sum_{i=1}^C f}{\\sum_{i=1}^W \\sum_{i=1}^C f}=\n",
    "\\frac{155}{555}=0.279\n",
    "\\end{equation*}"
   ]
  },
  {
   "cell_type": "markdown",
   "id": "8c904eff",
   "metadata": {},
   "source": [
    "\\begin{equation*}\n",
    "P(Kraftwerk)=\n",
    "\\frac{\\sum_{i=1}^C f}{\\sum_{i=1}^W \\sum_{i=1}^C f}=\n",
    "\\frac{144}{555}=0.259\n",
    "\\end{equation*}"
   ]
  },
  {
   "cell_type": "markdown",
   "id": "96b53d69",
   "metadata": {},
   "source": [
    "##### -P(w|c)"
   ]
  },
  {
   "cell_type": "markdown",
   "id": "1fc263e1",
   "metadata": {},
   "source": [
    "\\begin{equation*}\n",
    "P(Apfe|Saft)=\n",
    "\\frac{f}{\\sum_{i=1}^W \\sum_{i=1}^C f}=\n",
    "\\frac{40}{555}=0.07\n",
    "\\end{equation*}"
   ]
  },
  {
   "cell_type": "markdown",
   "id": "103b4d38",
   "metadata": {},
   "source": [
    "\\begin{equation*}\n",
    "P(Apfe|Kuchen)=\n",
    "\\frac{f}{\\sum_{i=1}^W \\sum_{i=1}^C f}=\n",
    "\\frac{40}{555}=0.183\n",
    "\\end{equation*}"
   ]
  },
  {
   "cell_type": "markdown",
   "id": "172dfb67",
   "metadata": {},
   "source": [
    "\\begin{equation*}\n",
    "P(Apfe|Kern)=\n",
    "\\frac{f}{\\sum_{i=1}^W \\sum_{i=1}^C f}=\n",
    "\\frac{43}{555}=0.077\n",
    "\\end{equation*}"
   ]
  },
  {
   "cell_type": "markdown",
   "id": "83d2ea53",
   "metadata": {},
   "source": [
    "\\begin{equation*}\n",
    "P(Apfe|Kraftwerk)=\n",
    "\\frac{f}{\\sum_{i=1}^W \\sum_{i=1}^C f}=\n",
    "\\frac{0}{555}=0\n",
    "\\end{equation*}"
   ]
  },
  {
   "cell_type": "markdown",
   "id": "83fefb32",
   "metadata": {},
   "source": [
    "\\begin{equation*}\n",
    "P(Kirsch|Saft)=\n",
    "\\frac{f}{\\sum_{i=1}^W \\sum_{i=1}^C f}=\n",
    "\\frac{26}{555}=0.046\n",
    "\\end{equation*}"
   ]
  },
  {
   "cell_type": "markdown",
   "id": "ae234a78",
   "metadata": {},
   "source": [
    "\\begin{equation*}\n",
    "P(Kirsch|Kuchen)=\n",
    "\\frac{f}{\\sum_{i=1}^W \\sum_{i=1}^C f}=\n",
    "\\frac{87}{555}=0.156\n",
    "\\end{equation*}"
   ]
  },
  {
   "cell_type": "markdown",
   "id": "c69ff4d6",
   "metadata": {},
   "source": [
    "\\begin{equation*}\n",
    "P(Kirsch|Kern)=\n",
    "\\frac{f}{\\sum_{i=1}^W \\sum_{i=1}^C f}=\n",
    "\\frac{42}{555}=0.0756\n",
    "\\end{equation*}"
   ]
  },
  {
   "cell_type": "markdown",
   "id": "1379a478",
   "metadata": {},
   "source": [
    "\\begin{equation*}\n",
    "P(Kirsch|Kraftwerk)=\n",
    "\\frac{f}{\\sum_{i=1}^W \\sum_{i=1}^C f}=\n",
    "\\frac{40}{555}=0.07\n",
    "\\end{equation*}"
   ]
  },
  {
   "cell_type": "markdown",
   "id": "bc89e475",
   "metadata": {},
   "source": [
    "\\begin{equation*}\n",
    "P(Atom|Saft)=\n",
    "\\frac{f}{\\sum_{i=1}^W \\sum_{i=1}^C f}=\n",
    "\\frac{0}{555}=0\n",
    "\\end{equation*}"
   ]
  },
  {
   "cell_type": "markdown",
   "id": "c581fac9",
   "metadata": {},
   "source": [
    "\\begin{equation*}\n",
    "P(Atom|Kuchen)=\n",
    "\\frac{f}{\\sum_{i=1}^W \\sum_{i=1}^C f}=\n",
    "\\frac{0}{555}=0\n",
    "\\end{equation*}"
   ]
  },
  {
   "cell_type": "markdown",
   "id": "2c3a8d9b",
   "metadata": {},
   "source": [
    "\\begin{equation*}\n",
    "P(Atom|Kern)=\n",
    "\\frac{f}{\\sum_{i=1}^W \\sum_{i=1}^C f}=\n",
    "\\frac{0}{555}=0.1207\n",
    "\\end{equation*}"
   ]
  },
  {
   "cell_type": "markdown",
   "id": "9ca4c824",
   "metadata": {},
   "source": [
    "\\begin{equation*}\n",
    "P(Atom|Kraftwerk)=\n",
    "\\frac{f}{\\sum_{i=1}^W \\sum_{i=1}^C f}=\n",
    "\\frac{45}{555}=0.081\n",
    "\\end{equation*}"
   ]
  },
  {
   "cell_type": "markdown",
   "id": "c7253087",
   "metadata": {},
   "source": [
    "\\begin{equation*}\n",
    "P(Kohle|Saft)=\n",
    "\\frac{f}{\\sum_{i=1}^W \\sum_{i=1}^C f}=\n",
    "\\frac{0}{555}=0\n",
    "\\end{equation*}"
   ]
  },
  {
   "cell_type": "markdown",
   "id": "7f9e042e",
   "metadata": {},
   "source": [
    "\\begin{equation*}\n",
    "P(Kohle|Kuchen)=\n",
    "\\frac{f}{\\sum_{i=1}^W \\sum_{i=1}^C f}=\n",
    "\\frac{1}{555}=0.0018\n",
    "\\end{equation*}"
   ]
  },
  {
   "cell_type": "markdown",
   "id": "041b7574",
   "metadata": {},
   "source": [
    "\\begin{equation*}\n",
    "P(Kohle|Kern)=\n",
    "\\frac{f}{\\sum_{i=1}^W \\sum_{i=1}^C f}=\n",
    "\\frac{3}{555}=0.0054\n",
    "\\end{equation*}"
   ]
  },
  {
   "cell_type": "markdown",
   "id": "5874459f",
   "metadata": {},
   "source": [
    "\\begin{equation*}\n",
    "P(Kohle|Kraftwerk)=\n",
    "\\frac{f}{\\sum_{i=1}^W \\sum_{i=1}^C f}=\n",
    "\\frac{98}{555}=0.176\n",
    "\\end{equation*}"
   ]
  },
  {
   "cell_type": "markdown",
   "id": "9e251bb1",
   "metadata": {},
   "source": [
    "|Raw count|Saft  |Kuchen|Kern  |Kraftwerk|\n",
    "|---------|------|------|------|---------|\n",
    "|Apfel    |0.28  |0.204 |-0.08 |   0     |\n",
    "|Kirsch   |0.174 |0.2106|-0.014| -0.015  |\n",
    "|Atom     |0     |  0   |0.3329| 0.191   |\n",
    "|Kohle    |0     |-1.542|-0.975| 0.569   |"
   ]
  },
  {
   "cell_type": "markdown",
   "id": "38bc6131",
   "metadata": {},
   "source": [
    "\\begin{equation*}\n",
    "\\frac{\\sum_{i=1}^N vw}{\\sqrt{\\sum_{i=1}^N v^{2}} \\sqrt{\\sum_{i=1}^N w^{2}}}=\n",
    "\\frac{0.28x0.174+0.204x0.2106+-0.08x-0.014+0x-0.015}{\\sqrt{0.28^{2}+0.204^{2}+-0.08^{2}+0^{2}} \\sqrt{0.174^{2}+0.2106^{2}+-0.014^{2}+-0.015^{2}}}=\n",
    "\\frac{0,092}{0.32x0.218}=\n",
    "\\frac{0,092}{0.07}=1.333\n",
    "\\end{equation*}"
   ]
  },
  {
   "cell_type": "markdown",
   "id": "f956f10a",
   "metadata": {},
   "source": [
    "\\begin{equation*}\n",
    "\\frac{\\sum_{i=1}^N vw}{\\sqrt{\\sum_{i=1}^N v^{2}} \\sqrt{\\sum_{i=1}^N w^{2}}}=\n",
    "\\frac{0.28x0+0.204x0+-0.08x0.3329+0x0.191}{\\sqrt{0.28^{2}+0.204^{2}+-0.08^{2}+0^{2}} \\sqrt{0^{2}+0^{2}+0.3329^{2}+0.191^{2}}}=\n",
    "\\frac{0.026}{0.32x0.369}=\n",
    "\\frac{0.026}{0.11}=0,23\n",
    "\\end{equation*}"
   ]
  },
  {
   "cell_type": "markdown",
   "id": "a5da5558",
   "metadata": {},
   "source": [
    "\\begin{equation*}\n",
    "\\frac{\\sum_{i=1}^N vw}{\\sqrt{\\sum_{i=1}^N v^{2}} \\sqrt{\\sum_{i=1}^N w^{2}}}=\n",
    "\\frac{0.28x0+0.204x-1.542+-0.08x-0.975+0x0.569}{\\sqrt{0.28^{2}+0.204^{2}+-0.08^{2}+0^{2}} \\sqrt{0^{2}+-1.542^{2}+-0.975^{2}+0.569^{2}}}=\n",
    "\\frac{0.023}{0.32x1.91}=\n",
    "\\frac{0.023}{0.61}=0.0426\n",
    "\\end{equation*}"
   ]
  },
  {
   "cell_type": "code",
   "execution_count": null,
   "id": "ee295e43",
   "metadata": {},
   "outputs": [],
   "source": []
  }
 ],
 "metadata": {
  "kernelspec": {
   "display_name": "Python 3",
   "language": "python",
   "name": "python3"
  },
  "language_info": {
   "codemirror_mode": {
    "name": "ipython",
    "version": 3
   },
   "file_extension": ".py",
   "mimetype": "text/x-python",
   "name": "python",
   "nbconvert_exporter": "python",
   "pygments_lexer": "ipython3",
   "version": "3.9.2"
  }
 },
 "nbformat": 4,
 "nbformat_minor": 5
}
