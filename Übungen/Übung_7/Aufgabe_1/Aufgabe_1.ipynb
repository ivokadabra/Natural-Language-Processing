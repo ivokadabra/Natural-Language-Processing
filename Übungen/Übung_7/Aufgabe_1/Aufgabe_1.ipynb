{
 "cells": [
  {
   "cell_type": "markdown",
   "id": "5343c0c1",
   "metadata": {},
   "source": [
    "##### Warum ist deren Wertebereich auf [0,1] beschränkt, obwohl der Kosinus im Prinzip auch negative Werte annehmen kann?"
   ]
  },
  {
   "cell_type": "markdown",
   "id": "74905080",
   "metadata": {},
   "source": [
    "#### - Weil die Frequenzwerten können nich negativ sein"
   ]
  },
  {
   "cell_type": "markdown",
   "id": "586b1510",
   "metadata": {},
   "source": [
    "##### Unter welchen Bedingungen ist 𝑐𝑜𝑠(𝑡⃗1,𝑡⃗2)=1?"
   ]
  },
  {
   "cell_type": "markdown",
   "id": "e366da61",
   "metadata": {},
   "source": [
    "#### -Wenn beide Vektoren das glieche Richtung haben"
   ]
  },
  {
   "cell_type": "markdown",
   "id": "8c3ea262",
   "metadata": {},
   "source": [
    "##### Unter welchen Bedingungen ist 𝑐𝑜𝑠(𝑡⃗1,𝑡⃗2)=1?"
   ]
  },
  {
   "cell_type": "markdown",
   "id": "9352b7ef",
   "metadata": {},
   "source": [
    "#### -Wenn beide Vektoren orthogonal sind"
   ]
  },
  {
   "cell_type": "markdown",
   "id": "c17ec227",
   "metadata": {},
   "source": [
    "##### Gibt es bei der Kosinus-Ähnlichkeit eine grundsätzliche Bevorzugung von selteneren oder häufigeren Termen? Wie sieht dies aus, wenn statt der KosinusÄhnlichkeit das Skalarprodukt zwischen 𝑡⃗1 und 𝑡⃗2 als Ähnlichkeitsmaß verwendet würde?"
   ]
  },
  {
   "cell_type": "markdown",
   "id": "792e09ab",
   "metadata": {},
   "source": [
    "#### -Das Porblem bei dot Product ist ,dass je größer die Vektoren(je mehr frequente Wörter wie the ,a ,you ) gibt ,desto größer ist der dot Produkt. Bei der cosine gibt es keine solchen Abhängigkeit."
   ]
  },
  {
   "cell_type": "code",
   "execution_count": null,
   "id": "9d53e3d0",
   "metadata": {},
   "outputs": [],
   "source": []
  }
 ],
 "metadata": {
  "kernelspec": {
   "display_name": "Python 3",
   "language": "python",
   "name": "python3"
  },
  "language_info": {
   "codemirror_mode": {
    "name": "ipython",
    "version": 3
   },
   "file_extension": ".py",
   "mimetype": "text/x-python",
   "name": "python",
   "nbconvert_exporter": "python",
   "pygments_lexer": "ipython3",
   "version": "3.9.2"
  }
 },
 "nbformat": 4,
 "nbformat_minor": 5
}
