{
 "cells": [
  {
   "cell_type": "markdown",
   "id": "ac913f1e",
   "metadata": {},
   "source": [
    "##### Warum ist deren Wertebereich auf [0,1] beschränkt, obwohl der Kosinus im Prinzip auch negative Werte annehmen kann?"
   ]
  },
  {
   "cell_type": "markdown",
   "id": "f3e3b774",
   "metadata": {},
   "source": [
    "#### - Weil die Frequenzwerten können nich negativ sein"
   ]
  },
  {
   "cell_type": "markdown",
   "id": "5e3482ff",
   "metadata": {},
   "source": [
    "##### Unter welchen Bedingungen ist 𝑐𝑜𝑠(𝑡⃗1,𝑡⃗2)=1?"
   ]
  },
  {
   "cell_type": "markdown",
   "id": "20eba217",
   "metadata": {},
   "source": [
    "#### -Wenn beide Vektoren das glieche Richtung haben"
   ]
  },
  {
   "cell_type": "markdown",
   "id": "3d79bc33",
   "metadata": {},
   "source": [
    "##### Unter welchen Bedingungen ist 𝑐𝑜𝑠(𝑡⃗1,𝑡⃗2)=1?"
   ]
  },
  {
   "cell_type": "markdown",
   "id": "6bcb7939",
   "metadata": {},
   "source": [
    "#### -Wenn beide Vektoren orthogonal sind"
   ]
  },
  {
   "cell_type": "markdown",
   "id": "d39079ef",
   "metadata": {},
   "source": [
    "##### Gibt es bei der Kosinus-Ähnlichkeit eine grundsätzliche Bevorzugung von selteneren oder häufigeren Termen? Wie sieht dies aus, wenn statt der KosinusÄhnlichkeit das Skalarprodukt zwischen 𝑡⃗1 und 𝑡⃗2 als Ähnlichkeitsmaß verwendet würde?"
   ]
  },
  {
   "cell_type": "markdown",
   "id": "90921903",
   "metadata": {},
   "source": [
    "#### -Das Porblem bei raw dot Product ist ,dass je größer die Vektoren(je mehr frequente Wörter wie the ,a ,you ) gibt ,desto größer ist der dot Produkt. Bei der cosine gibt es keine solchen Abhängigkeit."
   ]
  },
  {
   "cell_type": "code",
   "execution_count": null,
   "id": "bfd8136c",
   "metadata": {},
   "outputs": [],
   "source": []
  }
 ],
 "metadata": {
  "kernelspec": {
   "display_name": "Python 3",
   "language": "python",
   "name": "python3"
  },
  "language_info": {
   "codemirror_mode": {
    "name": "ipython",
    "version": 3
   },
   "file_extension": ".py",
   "mimetype": "text/x-python",
   "name": "python",
   "nbconvert_exporter": "python",
   "pygments_lexer": "ipython3",
   "version": "3.9.2"
  }
 },
 "nbformat": 4,
 "nbformat_minor": 5
}
