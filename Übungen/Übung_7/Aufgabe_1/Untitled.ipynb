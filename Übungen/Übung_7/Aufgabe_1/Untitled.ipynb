{
 "cells": [
  {
   "cell_type": "markdown",
   "id": "5cbf0854",
   "metadata": {},
   "source": [
    "##### Warum ist deren Wertebereich auf [0,1] beschränkt, obwohl der Kosinus im Prinzip auch negative Werte annehmen kann?"
   ]
  },
  {
   "cell_type": "markdown",
   "id": "95935c15",
   "metadata": {},
   "source": [
    "#### - Weil die Frequenzwerten können nich negativ sein"
   ]
  },
  {
   "cell_type": "markdown",
   "id": "e286c87b",
   "metadata": {},
   "source": [
    "##### Unter welchen Bedingungen ist 𝑐𝑜𝑠(𝑡⃗1,𝑡⃗2)=1?"
   ]
  },
  {
   "cell_type": "markdown",
   "id": "af156eb4",
   "metadata": {},
   "source": [
    "#### -Wenn beide Vektoren das glieche Richtung haben"
   ]
  },
  {
   "cell_type": "markdown",
   "id": "1607cb6f",
   "metadata": {},
   "source": [
    "##### Unter welchen Bedingungen ist 𝑐𝑜𝑠(𝑡⃗1,𝑡⃗2)=1?"
   ]
  },
  {
   "cell_type": "markdown",
   "id": "7c6dfbdc",
   "metadata": {},
   "source": [
    "#### -Wenn beide Vektoren orthogonal sind"
   ]
  },
  {
   "cell_type": "markdown",
   "id": "584cf338",
   "metadata": {},
   "source": [
    "##### Gibt es bei der Kosinus-Ähnlichkeit eine grundsätzliche Bevorzugung von selteneren oder häufigeren Termen? Wie sieht dies aus, wenn statt der KosinusÄhnlichkeit das Skalarprodukt zwischen 𝑡⃗1 und 𝑡⃗2 als Ähnlichkeitsmaß verwendet würde?"
   ]
  },
  {
   "cell_type": "code",
   "execution_count": null,
   "id": "458a8729",
   "metadata": {},
   "outputs": [],
   "source": [
    "#### -Das Porblem bei dot Product ist ,dass je größer die Vektoren(je mehr frequente Wörter wie the ,a ,you ) gibt ,desto größer ist der dot Produkt. Bei der cosine gibt es keine solchen Abhängigkeit."
   ]
  }
 ],
 "metadata": {
  "kernelspec": {
   "display_name": "Python 3",
   "language": "python",
   "name": "python3"
  },
  "language_info": {
   "codemirror_mode": {
    "name": "ipython",
    "version": 3
   },
   "file_extension": ".py",
   "mimetype": "text/x-python",
   "name": "python",
   "nbconvert_exporter": "python",
   "pygments_lexer": "ipython3",
   "version": "3.9.2"
  }
 },
 "nbformat": 4,
 "nbformat_minor": 5
}
