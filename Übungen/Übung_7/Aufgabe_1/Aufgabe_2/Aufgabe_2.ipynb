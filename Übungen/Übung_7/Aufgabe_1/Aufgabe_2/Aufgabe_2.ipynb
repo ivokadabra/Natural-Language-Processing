{
 "cells": [
  {
   "cell_type": "markdown",
   "id": "57137d24",
   "metadata": {},
   "source": [
    "##### -Berechnen Sie:"
   ]
  },
  {
   "cell_type": "markdown",
   "id": "30c918f2",
   "metadata": {},
   "source": [
    "##### 1) die tf-idf-gewichtete Term-Dokument-Matrix"
   ]
  },
  {
   "cell_type": "markdown",
   "id": "58d1b265",
   "metadata": {},
   "source": [
    "| term    | df   | idf  |\n",
    "|---------|------|------|\n",
    "|movie    | 9945 |0.0023|\n",
    "| film    | 7498 |0.125 |\n",
    "|romantic |967   | 1.009|\n",
    "|love     |1476  |0.8309|"
   ]
  },
  {
   "cell_type": "markdown",
   "id": "9ed59996",
   "metadata": {},
   "source": [
    "|Raw count| doc1 |doc2  |doc3  |\n",
    "|---------|------|------|-------\n",
    "|movie    |0.0414|0.0345|0.0276|\n",
    "| film    |1.5   |  1   |0.5   |\n",
    "|romantic |3.027 |  0   |2.018 |\n",
    "|love     |6.4   |1.606 |5.621 |"
   ]
  },
  {
   "cell_type": "markdown",
   "id": "40a2e518",
   "metadata": {},
   "source": [
    "##### 2)die Kosinus-Ähnlichkeiten für die folgenden Term-Paare\n",
    "##### 2.1) movie/film\n",
    "##### 2.2)romantic/love\n",
    "##### 2.3)movie/love"
   ]
  },
  {
   "cell_type": "markdown",
   "id": "083ec785",
   "metadata": {},
   "source": [
    "##### 2.1)  384/26+92=0.16\n",
    "\n",
    "\\begin{equation*}\n",
    "\\frac{\\sum_{i=1}^N vw}{\\sqrt{\\sum_{i=1}^N v^{2}} \\sqrt{\\sum_{i=1}^N w^{2}}}=\n",
    "\\frac{18x12+15x8+12x4}{\\sqrt{18^{2}+15^{2}+12^{2}} \\sqrt{12^{2}+8^{2}+4^{2}}}=0.1605\n",
    "\\end{equation*}\n",
    "\n",
    "##### 2.2)\n",
    "\n",
    "\\begin{equation*}\n",
    "\\frac{\\sum_{i=1}^N vw}{\\sqrt{\\sum_{i=1}^N v^{2}} \\sqrt{\\sum_{i=1}^N w^{2}}}=\n",
    "\\frac{3x8+0x2+2x7}{\\sqrt{3^{2}+0^{2}+2^{2}} \\sqrt{8^{2}+2^{2}+7^{2}}}=\n",
    "\\frac{38}{7x61}=\n",
    "\\frac{38}{427}=0.088\n",
    "\\end{equation*}\n",
    "\n",
    "\n",
    "##### 2.3)\n",
    "\n",
    "\n",
    "\\begin{equation*}\n",
    "\\frac{\\sum_{i=1}^N vw}{\\sqrt{\\sum_{i=1}^N v^{2}} \\sqrt{\\sum_{i=1}^N w^{2}}}=\n",
    "\\frac{18x12+15x8+12x4}{\\sqrt{18^{2}+15^{2}+12^{2}} \\sqrt{12^{2}+8^{2}+4^{2}}}=\n",
    "\\frac{384}{387x92}=\n",
    "\\frac{384}{35604}=0.00107\n",
    "\\end{equation*}\n"
   ]
  },
  {
   "cell_type": "code",
   "execution_count": null,
   "id": "88ed0275",
   "metadata": {},
   "outputs": [],
   "source": []
  }
 ],
 "metadata": {
  "kernelspec": {
   "display_name": "Python 3",
   "language": "python",
   "name": "python3"
  },
  "language_info": {
   "codemirror_mode": {
    "name": "ipython",
    "version": 3
   },
   "file_extension": ".py",
   "mimetype": "text/x-python",
   "name": "python",
   "nbconvert_exporter": "python",
   "pygments_lexer": "ipython3",
   "version": "3.9.2"
  }
 },
 "nbformat": 4,
 "nbformat_minor": 5
}
