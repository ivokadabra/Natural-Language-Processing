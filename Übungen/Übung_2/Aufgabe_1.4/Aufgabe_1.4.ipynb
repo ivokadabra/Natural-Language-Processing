{
 "cells": [
  {
   "cell_type": "code",
   "execution_count": 8,
   "id": "5bf5f21c",
   "metadata": {},
   "outputs": [
    {
     "name": "stdout",
     "output_type": "stream",
     "text": [
      "4\n"
     ]
    }
   ],
   "source": [
    "import matplotlib.pyplot as plt\n",
    "import tabulate as tb \n",
    "import numpy as np\n",
    "\n",
    "\n",
    "def MaxEditDistance(source:str,target:str,n,m):\n",
    "    \n",
    "   \n",
    "    D=[[0 for x in range(m+1)] for x in range(n+1)]\n",
    "    backtrace=[]\n",
    "  \n",
    "    \n",
    "    for i in range(n+1):\n",
    "        \n",
    "        for j in range(m+1):\n",
    "           \n",
    "            #print(target[j])\n",
    "            #print(\"j:\"+str(j))\n",
    "            \n",
    "            if i==0:\n",
    "                D[i][j]=j\n",
    "            elif j==0:\n",
    "                D[i][j]=i\n",
    "                \n",
    "            elif source[i-1]==target[j-1]:\n",
    "                backtrace.append(D[i-1][j-1])\n",
    "                D[i][j]=D[i-1][j-1]\n",
    "                \n",
    "            else: \n",
    "                backtrace.append(min(D[i][j-1],D[i-1][j],D[i-1][j-1]))\n",
    "                D[i][j]=1+min(D[i][j-1],D[i-1][j],D[i-1][j-1])\n",
    "                \n",
    "    \n",
    "    #lt.plot(backtrace)\n",
    "    #lt.axis([0, 6, 0, 20])\n",
    "    #lt.ylabel(list(source))\n",
    "    #lt.xlabel(list(target))\n",
    "    \n",
    "    \n",
    "    return D[n][m]            \n",
    "\n",
    "source = \"Wort\"\n",
    "target = \"Satz\"\n",
    "print(MaxEditDistance(source,target,len(source),len(target)))"
   ]
  },
  {
   "cell_type": "code",
   "execution_count": null,
   "id": "1c03c218",
   "metadata": {},
   "outputs": [],
   "source": [
    "#b)\n",
    "#Untere Schranke:Omega(n)\n",
    "#Obere Schranke:O(n x m)\n",
    "#Laufzeit-Komplexität:O(n x m)\n",
    "#Speicherplatz-Komplexität:O(n x m)\n",
    "#c)\n",
    "#Die Wahrscheinlichkeit \"n\" mit \"m\" ist größer als \"n\" mit \"q\" zu verwechseln.Deswegen kosten die \"n\" und \"m\" Bezihung mehr.\n",
    "#Die Wahrscheinlichkeit \"o\" mit \"s\" ist größer als \"o\" mit \"q\" zu verwechseln.Deswegen kosten die \"n\" und \"m\" Bezihung mehr."
   ]
  }
 ],
 "metadata": {
  "kernelspec": {
   "display_name": "Python 3",
   "language": "python",
   "name": "python3"
  },
  "language_info": {
   "codemirror_mode": {
    "name": "ipython",
    "version": 3
   },
   "file_extension": ".py",
   "mimetype": "text/x-python",
   "name": "python",
   "nbconvert_exporter": "python",
   "pygments_lexer": "ipython3",
   "version": "3.9.2"
  }
 },
 "nbformat": 4,
 "nbformat_minor": 5
}
