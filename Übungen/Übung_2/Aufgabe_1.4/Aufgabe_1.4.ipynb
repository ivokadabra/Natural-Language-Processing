{
 "cells": [
  {
   "cell_type": "code",
   "execution_count": 44,
   "id": "5bf5f21c",
   "metadata": {},
   "outputs": [
    {
     "name": "stdout",
     "output_type": "stream",
     "text": [
      "4\n"
     ]
    }
   ],
   "source": [
    "def MaxEditDistance(source:str,target:str,n,m):\n",
    "    \n",
    "   \n",
    "    D=[[0 for x in range(m+1)] for x in range(n+1)]\n",
    "    \n",
    "    for i in range(n+1):\n",
    "        #print(\"i\")\n",
    "        #print(i)\n",
    "        for j in range(m+1):\n",
    "           \n",
    "            #print(target[j])\n",
    "            #print(\"j:\"+str(j))\n",
    "            \n",
    "            if i==0:\n",
    "                D[i][j]=j\n",
    "            elif j==0:\n",
    "                D[i][j]=i\n",
    "                \n",
    "            elif source[i-1]==target[j-1]:\n",
    "                D[i][j]=D[i-1][j-1]\n",
    "                \n",
    "            else: \n",
    "                D[i][j]=1+min(D[i][j-1],D[i-1][j],D[i-1][j-1])\n",
    "    \n",
    "    return D[n][m]            \n",
    "\n",
    "source = \"Wort\"\n",
    "target = \"Satz\"\n",
    "print(MaxEditDistance(source,target,len(source),len(target)))"
   ]
  },
  {
   "cell_type": "code",
   "execution_count": null,
   "id": "1c03c218",
   "metadata": {},
   "outputs": [],
   "source": []
  }
 ],
 "metadata": {
  "kernelspec": {
   "display_name": "Python 3",
   "language": "python",
   "name": "python3"
  },
  "language_info": {
   "codemirror_mode": {
    "name": "ipython",
    "version": 3
   },
   "file_extension": ".py",
   "mimetype": "text/x-python",
   "name": "python",
   "nbconvert_exporter": "python",
   "pygments_lexer": "ipython3",
   "version": "3.9.2"
  }
 },
 "nbformat": 4,
 "nbformat_minor": 5
}
