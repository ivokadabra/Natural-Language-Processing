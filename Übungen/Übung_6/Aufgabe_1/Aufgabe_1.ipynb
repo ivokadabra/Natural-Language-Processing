{
 "cells": [
  {
   "cell_type": "markdown",
   "id": "1111388b",
   "metadata": {},
   "source": [
    "## Aufgabe_1"
   ]
  },
  {
   "cell_type": "markdown",
   "id": "5f2734c0",
   "metadata": {},
   "source": [
    "-------------------------------------------------------------------------------------------------------------------------------\n",
    "##### • Starten Sie mit dem Gewichtsvektor 𝜃 = (𝛽, 𝑤1, 𝑤2, 𝑤3, 𝑤4) = (0,0,0,0,0).\n",
    "\n",
    "##### • Berechnen Sie für jeden Datensatz die gewichtete Feature-Summe 𝑧 gemäß Formel (5.2).\n",
    "\n",
    "##### • Transformieren Sie z in eine Wahrscheinlichkeit P(y = 1|x) gemäß Formel (5.4)\n",
    "\n",
    "##### • Bestimmen Sie die Klasse 𝑦̂ = {\n",
    "##### 1 wenn P(y = 1|x) > 0.5\n",
    "##### 0 𝑠𝑜𝑛𝑠}\n",
    "\n",
    "-------------------------------------------------------------------------------------------------------------------------------"
   ]
  },
  {
   "cell_type": "markdown",
   "id": "9831c6a1",
   "metadata": {},
   "source": [
    " \\begin{equation*}\n",
    " z = (w· x+b) = ([x1,x2,x3,x4 ] · [0,0,0,0] +0)=0\n",
    "\\end{equation*}\n",
    "\n",
    "Die andere z der anderen Datenansätze sind auch 0 ."
   ]
  },
  {
   "cell_type": "markdown",
   "id": "bd51fe01",
   "metadata": {},
   "source": [
    "## Tabelle für z"
   ]
  },
  {
   "cell_type": "markdown",
   "id": "fc8349f1",
   "metadata": {},
   "source": [
    "|     | x1   | x2   | x3   | x4   |\n",
    "|-----|------|------|------|------|\n",
    "| z   |   0  | 0    | 0    | 0    |\n"
   ]
  },
  {
   "cell_type": "markdown",
   "id": "ae1f8966",
   "metadata": {},
   "source": [
    "\\begin{equation*}\n",
    "\\ P(1|x)=\\sigma(z) = \n",
    "\\frac{1}{1+e^{-z}} =\n",
    "\\frac{1}{1+1} =\n",
    "\\frac{1}{2}= 0.5 =>  y = 0\n",
    "\\end{equation*}\n"
   ]
  },
  {
   "cell_type": "markdown",
   "id": "882b1cc2",
   "metadata": {},
   "source": [
    "--------------------------------------------------------------------------------------------------------------------------------\n",
    "##### Welche Datensätze werden richtig, welche werden falsch klassifiziert?\n",
    "\n",
    "##### Welchen Wert hat die Verlustfunktion 𝐿𝐶𝐸(𝑦̂, 𝑦) für jeden individuellen Datensatz und gemittelt über alle Datensätze?\n",
    "\n",
    "--------------------------------------------------------------------------------------------------------------------------------"
   ]
  },
  {
   "cell_type": "markdown",
   "id": "ab1824b9",
   "metadata": {},
   "source": [
    "Die Datensätze mit Klasse versicolor sind richtig.\n",
    "Die Datensätze mit Klasse setosa sind falsch => 2 Falsche Klassen\n"
   ]
  },
  {
   "cell_type": "markdown",
   "id": "274fbcc0",
   "metadata": {},
   "source": [
    "#### Die folgende Ergebnis dient für alle Datensätze\n",
    "\n",
    "Für y=0\n",
    "\n",
    "\\begin{equation*}\n",
    "\\ LCE(\\sigma(z) | y) = -[ylog(\\sigma(z)) + (1-y)log(1-\\sigma(z))] = -[0 + 1log(0.50)]=0.301\n",
    "\\end{equation*}\n",
    "\n",
    "Für y=1 \n",
    "\n",
    "\n",
    "\\begin{equation*}\n",
    "\\ LCE(\\sigma(z) | y) = -[ylog(\\sigma(z)) + (1-y)log(1-\\sigma(z))] = -[1log(0.50)]=0.301\n",
    "\\end{equation*}"
   ]
  },
  {
   "cell_type": "markdown",
   "id": "80be8502",
   "metadata": {},
   "source": [
    "------------------------------------------------------------------------------------------------------------------------------\n",
    "##### Passen Sie nun den Gewichtsvektor 𝜃 an, indem Sie das Verfahren des Gradientenabstiegs anwenden. Berechnen Sie dazu in jeder Iteration des Verfahrens den Batch-Gradienten für den kompletten Datensatz gemäß Formel (5.21) und aktualisieren Sie den Gewichtsvektor mit der Lernrate 𝜂 = 0.05. Spielen Sie wenigstens zwei Iterationen des Gradientenabstiegs durch.\n",
    "\n",
    "------------------------------------------------------------------------------------------------------------------------------"
   ]
  },
  {
   "cell_type": "markdown",
   "id": "ddd4d106",
   "metadata": {},
   "source": [
    "## Datensatz 1\n",
    "### Erste Iteration"
   ]
  },
  {
   "cell_type": "markdown",
   "id": "4d1d83a6",
   "metadata": {},
   "source": [
    "\\begin{align}\n",
    "\\nabla w,b = \\begin{vmatrix}\n",
    "\\frac{\\partial LCE}{\\partial w1}\\\\\n",
    "\\frac{\\partial LCE}{\\partial w2}\\\\\n",
    "\\frac{\\partial LCE}{\\partial w3}\\\\\n",
    "\\frac{\\partial LCE}{\\partial w4}\\\\\n",
    "\\frac{\\partial LCE}{\\partial b}\n",
    "\\end{vmatrix}=\n",
    "\\begin{vmatrix}\n",
    "(\\sigma(z)-y)x1\\\\\n",
    "(\\sigma(z)-y)x2\\\\\n",
    "(\\sigma(z)-y)x3\\\\\n",
    "(\\sigma(z)-y)x4\\\\\n",
    "(\\sigma(z)-y)\n",
    "\\end{vmatrix}=\n",
    "\\begin{vmatrix}\n",
    "(\\sigma(0)-0)x1\\\\\n",
    "(\\sigma(0)-0)x2\\\\\n",
    "(\\sigma(0)-0)x3\\\\\n",
    "(\\sigma(0)-0)x4\\\\\n",
    "(\\sigma(0)-0)\n",
    "\\end{vmatrix}=\n",
    "\\begin{vmatrix}\n",
    "0.5x1\\\\\n",
    "0.5x2\\\\\n",
    "0.5x3\\\\\n",
    "0.5x4\\\\\n",
    "0.5\n",
    "\\end{vmatrix}=\n",
    " \\begin{vmatrix}\n",
    "0.5 \\times 5.5\\\\\n",
    "0.5 \\times 2.3\\\\\n",
    "0.5 \\times 4.0\\\\\n",
    "0.5 \\times 1.3\\\\\n",
    "0.5\n",
    "\\end{vmatrix}=\n",
    "\\begin{vmatrix}\n",
    "2.75\\\\\n",
    "1.15\\\\\n",
    "2.0\\\\\n",
    "0.65\\\\\n",
    "0.5\n",
    "\\end{vmatrix}\n",
    "\\end{align}"
   ]
  },
  {
   "cell_type": "markdown",
   "id": "e750d446",
   "metadata": {},
   "source": [
    "\\begin{align}\n",
    "\\Theta = \\begin{vmatrix}\n",
    "w1\\\\\n",
    "w2\\\\\n",
    "w3\\\\\n",
    "w4\\\\\n",
    "b\n",
    "\\end{vmatrix}-\n",
    "0.05 \\times\n",
    "\\begin{vmatrix}\n",
    "2.75\\\\\n",
    "1.15\\\\\n",
    "2.0\\\\\n",
    "0.65\\\\\n",
    "0.5\n",
    "\\end{vmatrix}=\n",
    "\\begin{vmatrix}\n",
    "-0.13\\\\\n",
    "-0.05\\\\\n",
    "-0.1\\\\\n",
    "-0.03\\\\\n",
    "-0.025\n",
    "\\end{vmatrix}\n",
    "\\end{align}"
   ]
  },
  {
   "cell_type": "markdown",
   "id": "18f0082a",
   "metadata": {},
   "source": [
    "#### Klassifizierung"
   ]
  },
  {
   "cell_type": "markdown",
   "id": "cd2509a9",
   "metadata": {},
   "source": [
    "\\begin{equation*}\n",
    " z = (w· x+b) = ([5.5,2.3,4.0,1.3 ] · [-0.13,-0.05,-0.1,-0.03] -0.025)=-1.294\n",
    "\\end{equation*}"
   ]
  },
  {
   "cell_type": "markdown",
   "id": "00c0a54e",
   "metadata": {},
   "source": [
    "\\begin{equation*}\n",
    "\\ P(0|x)=\\sigma(z) = \n",
    "\\frac{1}{1+e^{-z}} =\n",
    "\\frac{1}{1+3.63} =\n",
    "\\frac{1}{4.63}= 0.21 =>  y = 0\n",
    "\\end{equation*}"
   ]
  },
  {
   "cell_type": "markdown",
   "id": "192b2291",
   "metadata": {},
   "source": [
    "\\begin{equation*}\n",
    "\\ LCE(\\sigma(z) | y) = -[ylog(\\sigma(z)) + (1-y)log(1-\\sigma(z))] = -[0 + 1log(0.79)]=0.10\n",
    "\\end{equation*}"
   ]
  },
  {
   "cell_type": "markdown",
   "id": "7d183c40",
   "metadata": {},
   "source": [
    "### Zweite Iteration"
   ]
  },
  {
   "cell_type": "markdown",
   "id": "cd040a96",
   "metadata": {},
   "source": [
    "\\begin{align}\n",
    "\\nabla w,b = \\begin{vmatrix}\n",
    "\\frac{\\partial LCE}{\\partial w1}\\\\\n",
    "\\frac{\\partial LCE}{\\partial w2}\\\\\n",
    "\\frac{\\partial LCE}{\\partial w3}\\\\\n",
    "\\frac{\\partial LCE}{\\partial w4}\\\\\n",
    "\\end{vmatrix}=\n",
    "\\begin{vmatrix}\n",
    "(\\sigma(z)-y)x1\\\\\n",
    "(\\sigma(z)-y)x2\\\\\n",
    "(\\sigma(z)-y)x3\\\\\n",
    "(\\sigma(z)-y)x4\\\\\n",
    "\\end{vmatrix}=\n",
    "\\begin{vmatrix}\n",
    "(\\sigma([-0.13,-0.5,-0.1,-0.03] \\times [5.5,2.3,4.0,1.3]−0.025)-0)x1\\\\\n",
    "(\\sigma([-0.13,-0.5,-0.1,-0.03] \\times [5.5,2.3,4.0,1.3]−0.025)-0)x2\\\\\n",
    "(\\sigma([-0.13,-0.5,-0.1,-0.03] \\times [5.5,2.3,4.0,1.3]−0.025)-0)x3\\\\\n",
    "(\\sigma([-0.13,-0.5,-0.1,-0.03] \\times [5.5,2.3,4.0,1.3]−0.025)-0)x4\\\\\n",
    "\\end{vmatrix}=\n",
    "\\begin{vmatrix}\n",
    "(\\sigma(-2,304)-0)x1\\\\\n",
    "(\\sigma(-2,304)-0)x2\\\\\n",
    "(\\sigma(-2,304)-0)x3\\\\\n",
    "(\\sigma(-2,304)-0)x4\\\\\n",
    "\\end{vmatrix}=\n",
    "\\begin{vmatrix}\n",
    "0.09x1\\\\\n",
    "0.09x2\\\\\n",
    "0.09x3\\\\\n",
    "0.09x4\\\\\n",
    "0.09\n",
    "\\end{vmatrix}=\n",
    "\\begin{vmatrix}\n",
    "0.495\\\\\n",
    "0.207\\\\\n",
    "0.36\\\\\n",
    "0.117\\\\\n",
    "0.09\n",
    "\\end{vmatrix}\n",
    "\\end{align}"
   ]
  },
  {
   "cell_type": "markdown",
   "id": "e66c2ac1",
   "metadata": {},
   "source": [
    "\\begin{align}\n",
    "\\Theta = \\begin{vmatrix}\n",
    "-0.13\\\\\n",
    "-0.05\\\\\n",
    "-0.1\\\\\n",
    "-0.03\\\\\n",
    "-0.025\n",
    "\\end{vmatrix}-\n",
    "0.05 \\times\n",
    "\\begin{vmatrix}\n",
    "0.495\\\\\n",
    "0.207\\\\\n",
    "0.36\\\\\n",
    "0.117\\\\\n",
    "0.09\n",
    "\\end{vmatrix}=\n",
    "\\begin{vmatrix}\n",
    "-0.154\\\\\n",
    "-0.06\\\\\n",
    "-0.118\\\\\n",
    "-0.035\\\\\n",
    "-0,0295\n",
    "\\end{vmatrix}\n",
    "\\end{align}"
   ]
  },
  {
   "cell_type": "markdown",
   "id": "a611b7ef",
   "metadata": {},
   "source": [
    "\\begin{equation*}\n",
    " z = (w· x+b) = ([5.5,2.3,4.0,1.3 ] · [-0.154,-0.06,-0.118,-0.035] -0,0295)=-1.532\n",
    "\\end{equation*}"
   ]
  },
  {
   "cell_type": "markdown",
   "id": "29658a86",
   "metadata": {},
   "source": [
    "\\begin{equation*}\n",
    "\\ P(0|x)=\\sigma(z) = \n",
    "\\frac{1}{1+e^{-z}} =\n",
    "\\frac{1}{1+4.61} =\n",
    "\\frac{1}{5.61}= 0.178 =>  y = 0\n",
    "\\end{equation*}"
   ]
  },
  {
   "cell_type": "markdown",
   "id": "82b88e54",
   "metadata": {},
   "source": [
    "\\begin{equation*}\n",
    "\\ LCE(\\sigma(z) | y) = -[ylog(\\sigma(z)) + (1-y)log(1-\\sigma(z))] = -[0 + 1log(0.82)]=0.08\n",
    "\\end{equation*}"
   ]
  },
  {
   "cell_type": "markdown",
   "id": "6a32daeb",
   "metadata": {},
   "source": [
    "## Datensatz 2\n",
    "### Erste Iteration"
   ]
  },
  {
   "cell_type": "markdown",
   "id": "29f7169d",
   "metadata": {},
   "source": [
    "\\begin{align}\n",
    "\\nabla w,b = \\begin{vmatrix}\n",
    "\\frac{\\partial LCE}{\\partial w1}\\\\\n",
    "\\frac{\\partial LCE}{\\partial w2}\\\\\n",
    "\\frac{\\partial LCE}{\\partial w3}\\\\\n",
    "\\frac{\\partial LCE}{\\partial w4}\\\\\n",
    "\\frac{\\partial LCE}{\\partial b}\n",
    "\\end{vmatrix}=\n",
    "\\begin{vmatrix}\n",
    "(\\sigma(z)-y)x1\\\\\n",
    "(\\sigma(z)-y)x2\\\\\n",
    "(\\sigma(z)-y)x3\\\\\n",
    "(\\sigma(z)-y)x4\\\\\n",
    "(\\sigma(z)-y)\n",
    "\\end{vmatrix}=\n",
    "\\begin{vmatrix}\n",
    "(\\sigma(0)-0)x1\\\\\n",
    "(\\sigma(0)-0)x2\\\\\n",
    "(\\sigma(0)-0)x3\\\\\n",
    "(\\sigma(0)-0)x4\\\\\n",
    "(\\sigma(0)-0)\n",
    "\\end{vmatrix}=\n",
    "\\begin{vmatrix}\n",
    "0.5x1\\\\\n",
    "0.5x2\\\\\n",
    "0.5x3\\\\\n",
    "0.5x4\\\\\n",
    "0.5\n",
    "\\end{vmatrix}=\n",
    " \\begin{vmatrix}\n",
    "0.5 \\times 6.5\\\\\n",
    "0.5 \\times 2.8\\\\\n",
    "0.5 \\times 4.6\\\\\n",
    "0.5 \\times 1.5\\\\\n",
    "0.5\n",
    "\\end{vmatrix}=\n",
    "\\begin{vmatrix}\n",
    "3.25\\\\\n",
    "1.4\\\\\n",
    "2.3\\\\\n",
    "0.75\\\\\n",
    "0.5\n",
    "\\end{vmatrix}\n",
    "\\end{align}"
   ]
  },
  {
   "cell_type": "markdown",
   "id": "e1ec8fa7",
   "metadata": {},
   "source": [
    "\\begin{align}\n",
    "\\Theta = \\begin{vmatrix}\n",
    "w1\\\\\n",
    "w2\\\\\n",
    "w3\\\\\n",
    "w4\\\\\n",
    "b\n",
    "\\end{vmatrix}-\n",
    "0.05 \\times\n",
    "\\begin{vmatrix}\n",
    "3.25\\\\\n",
    "1.4\\\\\n",
    "2.3\\\\\n",
    "0.75\\\\\n",
    "0.5\n",
    "\\end{vmatrix}=\n",
    "\\begin{vmatrix}\n",
    "-0.157\\\\\n",
    "-0.07\\\\\n",
    "-0.115\\\\\n",
    "-0.0375\\\\\n",
    "-0.025\n",
    "\\end{vmatrix}\n",
    "\\end{align}"
   ]
  },
  {
   "cell_type": "markdown",
   "id": "0f24fbd3",
   "metadata": {},
   "source": [
    "\\begin{equation*}\n",
    " z = (w· x+b) = ([5.5,2.3,4.0,1.3 ] · [-0.157,-0.07,-0.115,-0.0375] -0.025)=-1.558\n",
    "\\end{equation*}"
   ]
  },
  {
   "cell_type": "markdown",
   "id": "bea7d10d",
   "metadata": {},
   "source": [
    "\\begin{equation*}\n",
    "\\ P(0|x)=\\sigma(z) = \n",
    "\\frac{1}{1+e^{-z}} =\n",
    "\\frac{1}{1+4.71} =\n",
    "\\frac{1}{5.71}= 0.175 =>  y = 0\n",
    "\\end{equation*}"
   ]
  },
  {
   "cell_type": "markdown",
   "id": "b2e3108f",
   "metadata": {},
   "source": [
    "\\begin{equation*}\n",
    "\\ LCE(\\sigma(z) | y) = -[ylog(\\sigma(z)) + (1-y)log(1-\\sigma(z))] = -[0 + 1log(0.825)]=0.083\n",
    "\\end{equation*}"
   ]
  },
  {
   "cell_type": "markdown",
   "id": "7ff7a6fc",
   "metadata": {},
   "source": [
    "### Zweite Iteration"
   ]
  },
  {
   "cell_type": "markdown",
   "id": "8113623a",
   "metadata": {},
   "source": [
    "\\begin{align}\n",
    "\\nabla w,b = \\begin{vmatrix}\n",
    "\\frac{\\partial LCE}{\\partial w1}\\\\\n",
    "\\frac{\\partial LCE}{\\partial w2}\\\\\n",
    "\\frac{\\partial LCE}{\\partial w3}\\\\\n",
    "\\frac{\\partial LCE}{\\partial w4}\\\\\n",
    "\\end{vmatrix}=\n",
    "\\begin{vmatrix}\n",
    "(\\sigma(z)-y)x1\\\\\n",
    "(\\sigma(z)-y)x2\\\\\n",
    "(\\sigma(z)-y)x3\\\\\n",
    "(\\sigma(z)-y)x4\\\\\n",
    "\\end{vmatrix}=\n",
    "\\begin{vmatrix}\n",
    "(\\sigma([-0.157,-0.07,-0.115,-0.0375] \\times [6.5,2.8,4.6,1.5]−0.025)-0)x1\\\\\n",
    "(\\sigma([-0.157,-0.07,-0.115,-0.0375] \\times [6.5,2.8,4.6,1.5]−0.025)-0)x2\\\\\n",
    "(\\sigma([-0.157,-0.07,-0.115,-0.0375] \\times [6.5,2.8,4.6,1.5]−0.025)-0)x3\\\\\n",
    "(\\sigma([-0.157,-0.07,-0.115,-0.0375] \\times [6.5,2.8,4.6,1.5]−0.025)-0)x4\\\\\n",
    "\\end{vmatrix}=\n",
    "\\begin{vmatrix}\n",
    "(\\sigma(-1,801)-0)x1\\\\\n",
    "(\\sigma(-1,801)-0)x2\\\\\n",
    "(\\sigma(-1,801)-0)x3\\\\\n",
    "(\\sigma(-1,801)-0)x4\\\\\n",
    "\\end{vmatrix}=\n",
    "\\begin{vmatrix}\n",
    "0.14x1\\\\\n",
    "0.14x2\\\\\n",
    "0.14x3\\\\\n",
    "0.14x4\\\\\n",
    "0.14\n",
    "\\end{vmatrix}=\n",
    "\\begin{vmatrix}\n",
    "0.91\\\\\n",
    "0.39\\\\\n",
    "0.36\\\\\n",
    "0.644\\\\\n",
    "0.14\n",
    "\\end{vmatrix}\n",
    "\\end{align}"
   ]
  },
  {
   "cell_type": "markdown",
   "id": "240aea1c",
   "metadata": {},
   "source": [
    "\\begin{align}\n",
    "\\Theta = \\begin{vmatrix}\n",
    "-0.157\\\\\n",
    "-0.07\\\\\n",
    "-0.115\\\\\n",
    "-0.0375\\\\\n",
    "-0.025\n",
    "\\end{vmatrix}-\n",
    "0.05 \\times\n",
    "\\begin{vmatrix}\n",
    "0.91\\\\\n",
    "0.39\\\\\n",
    "0.36\\\\\n",
    "0.644\\\\\n",
    "0.14\n",
    "\\end{vmatrix}=\n",
    "\\begin{vmatrix}\n",
    "-0.202\\\\\n",
    "-0.089\\\\\n",
    "-0.133\\\\\n",
    "-0.069\\\\\n",
    "-0,032\n",
    "\\end{vmatrix}\n",
    "\\end{align}"
   ]
  },
  {
   "cell_type": "markdown",
   "id": "3400403c",
   "metadata": {},
   "source": [
    "\\begin{equation*}\n",
    " z = (w· x+b) = ([6.5,2.8,4.6,1.5 ] · [-0.202,-0.089,-0.133,-0.069] -0.032)=-2.2175\n",
    "\\end{equation*}"
   ]
  },
  {
   "cell_type": "markdown",
   "id": "a0608776",
   "metadata": {},
   "source": [
    "\\begin{equation*}\n",
    "\\ P(0|x)=\\sigma(z) = \n",
    "\\frac{1}{1+e^{-z}} =\n",
    "\\frac{1}{1+9.11} =\n",
    "\\frac{1}{10.11}= 0.098 =>  y = 0\n",
    "\\end{equation*}"
   ]
  },
  {
   "cell_type": "markdown",
   "id": "a665d54c",
   "metadata": {},
   "source": [
    "\\begin{equation*}\n",
    "\\ LCE(\\sigma(z) | y) = -[ylog(\\sigma(z)) + (1-y)log(1-\\sigma(z))] = -[0 + 1log(0.902)]=0.044\n",
    "\\end{equation*}"
   ]
  },
  {
   "cell_type": "markdown",
   "id": "0eea6d5b",
   "metadata": {},
   "source": [
    "## Datensatz 3\n",
    "### Erste Iteration"
   ]
  },
  {
   "cell_type": "markdown",
   "id": "a7b685e5",
   "metadata": {},
   "source": [
    "\\begin{align}\n",
    "\\nabla w,b = \\begin{vmatrix}\n",
    "\\frac{\\partial LCE}{\\partial w1}\\\\\n",
    "\\frac{\\partial LCE}{\\partial w2}\\\\\n",
    "\\frac{\\partial LCE}{\\partial w3}\\\\\n",
    "\\frac{\\partial LCE}{\\partial w4}\\\\\n",
    "\\frac{\\partial LCE}{\\partial b}\n",
    "\\end{vmatrix}=\n",
    "\\begin{vmatrix}\n",
    "(\\sigma(z)-y)x1\\\\\n",
    "(\\sigma(z)-y)x2\\\\\n",
    "(\\sigma(z)-y)x3\\\\\n",
    "(\\sigma(z)-y)x4\\\\\n",
    "(\\sigma(z)-y)\n",
    "\\end{vmatrix}=\n",
    "\\begin{vmatrix}\n",
    "(\\sigma(0)-1)x1\\\\\n",
    "(\\sigma(0)-1)x2\\\\\n",
    "(\\sigma(0)-1)x3\\\\\n",
    "(\\sigma(0)-1)x4\\\\\n",
    "(\\sigma(0)-1)\n",
    "\\end{vmatrix}=\n",
    "\\begin{vmatrix}\n",
    "-0.5x1\\\\\n",
    "-0.5x2\\\\\n",
    "-0.5x3\\\\\n",
    "-0.5x4\\\\\n",
    "-0.5\n",
    "\\end{vmatrix}=\n",
    " \\begin{vmatrix}\n",
    "-0.5 \\times 5.0\\\\\n",
    "-0.5 \\times 3.6\\\\\n",
    "-0.5 \\times 1.4\\\\\n",
    "-0.5 \\times 0.2\\\\\n",
    "-0.5\n",
    "\\end{vmatrix}=\n",
    "\\begin{vmatrix}\n",
    "-2.5\\\\\n",
    "-1.8\\\\\n",
    "-0.7\\\\\n",
    "-0.1\\\\\n",
    "-0.5\n",
    "\\end{vmatrix}\n",
    "\\end{align}"
   ]
  },
  {
   "cell_type": "markdown",
   "id": "dc4fdf90",
   "metadata": {},
   "source": [
    "\\begin{align}\n",
    "\\Theta = \\begin{vmatrix}\n",
    "w1\\\\\n",
    "w2\\\\\n",
    "w3\\\\\n",
    "w4\\\\\n",
    "b\n",
    "\\end{vmatrix}-\n",
    "0.05 \\times\n",
    "\\begin{vmatrix}\n",
    "-2.5\\\\\n",
    "-1.8\\\\\n",
    "-0.7\\\\\n",
    "-0.1\\\\\n",
    "-0.5\n",
    "\\end{vmatrix}=\n",
    "\\begin{vmatrix}\n",
    "0.125\\\\\n",
    "0.09\\\\\n",
    "0.035\\\\\n",
    "0.005\\\\\n",
    "0.025\n",
    "\\end{vmatrix}\n",
    "\\end{align}"
   ]
  },
  {
   "cell_type": "markdown",
   "id": "407108d1",
   "metadata": {},
   "source": [
    "\\begin{equation*}\n",
    " z = (w· x+b) = ([5.0,3.6,1.4,0.2] · [0.123,0.09,0.035,0.005] + 0.025)=1.014\n",
    "\\end{equation*}"
   ]
  },
  {
   "cell_type": "markdown",
   "id": "ee6cdefe",
   "metadata": {},
   "source": [
    "\\begin{equation*}\n",
    "\\ P(0|x)=\\sigma(z) = \n",
    "\\frac{1}{1+e^{-z}} =\n",
    "\\frac{1}{1+0.35} =\n",
    "\\frac{1}{1.35}= 0.74 =>  y = 0\n",
    "\\end{equation*}"
   ]
  },
  {
   "cell_type": "markdown",
   "id": "6056986d",
   "metadata": {},
   "source": [
    "\\begin{equation*}\n",
    "\\ LCE(\\sigma(z) | y) = -[ylog(\\sigma(z)) + (1-y)log(1-\\sigma(z))] = -[ylog(0.74)]=0.13\n",
    "\\end{equation*}"
   ]
  },
  {
   "cell_type": "markdown",
   "id": "6c637073",
   "metadata": {},
   "source": [
    "### Zweite Iteration"
   ]
  },
  {
   "cell_type": "markdown",
   "id": "cabbe684",
   "metadata": {},
   "source": [
    "\\begin{align}\n",
    "\\nabla w,b = \\begin{vmatrix}\n",
    "\\frac{\\partial LCE}{\\partial w1}\\\\\n",
    "\\frac{\\partial LCE}{\\partial w2}\\\\\n",
    "\\frac{\\partial LCE}{\\partial w3}\\\\\n",
    "\\frac{\\partial LCE}{\\partial w4}\\\\\n",
    "\\end{vmatrix}=\n",
    "\\begin{vmatrix}\n",
    "(\\sigma(z)-y)x1\\\\\n",
    "(\\sigma(z)-y)x2\\\\\n",
    "(\\sigma(z)-y)x3\\\\\n",
    "(\\sigma(z)-y)x4\\\\\n",
    "\\end{vmatrix}=\n",
    "\\begin{vmatrix}\n",
    "(\\sigma([0.125,0.09,0.035,0.005] \\times [5.0,3.6,1.4,0.2]+0.025)-1)x1\\\\\n",
    "(\\sigma([0.125,0.09,0.035,0.005] \\times [5.0,3.6,1.4,0.2]+0.025)-1)x2\\\\\n",
    "(\\sigma([0.125,0.09,0.035,0.005] \\times [5.0,3.6,1.4,0.2]+0.025)-1)x3\\\\\n",
    "(\\sigma([0.125,0.09,0.035,0.005] \\times [5.0,3.6,1.4,0.2]+0.025)-1)x4\\\\\n",
    "\\end{vmatrix}=\n",
    "\\begin{vmatrix}\n",
    "(\\sigma(1.024)-1)x1\\\\\n",
    "(\\sigma(1.024)-1)x2\\\\\n",
    "(\\sigma(1.024)-1)x3\\\\\n",
    "(\\sigma(1.024)-1)x4\\\\\n",
    "\\end{vmatrix}=\n",
    "\\begin{vmatrix}\n",
    "-0.26x1\\\\\n",
    "-0.26x2\\\\\n",
    "-0.26x3\\\\\n",
    "-0.26x4\\\\\n",
    "-0.26\n",
    "\\end{vmatrix}=\n",
    "\\begin{vmatrix}\n",
    "-1.3\\\\\n",
    "-0.93\\\\\n",
    "-0.36\\\\\n",
    "-0.052\\\\\n",
    "-0.26\n",
    "\\end{vmatrix}\n",
    "\\end{align}"
   ]
  },
  {
   "cell_type": "markdown",
   "id": "c3e3aa48",
   "metadata": {},
   "source": [
    "\\begin{align}\n",
    "\\Theta = \\begin{vmatrix}\n",
    "0.125\\\\\n",
    "0.09\\\\\n",
    "0.035\\\\\n",
    "0.005\\\\\n",
    "0.025\n",
    "\\end{vmatrix}-\n",
    "0.05 \\times\n",
    "\\begin{vmatrix}\n",
    "-1.3\\\\\n",
    "-0.93\\\\\n",
    "-0.36\\\\\n",
    "-0.052\\\\\n",
    "-0.26\n",
    "\\end{vmatrix}=\n",
    "\\begin{vmatrix}\n",
    "0.19\\\\\n",
    "0.94\\\\\n",
    "0.053\\\\\n",
    "0.047\\\\\n",
    "0.038\n",
    "\\end{vmatrix}\n",
    "\\end{align}"
   ]
  },
  {
   "cell_type": "markdown",
   "id": "b97bc8ad",
   "metadata": {},
   "source": [
    "\\begin{equation*}\n",
    " z = (w· x+b) = ([5.0,3.6,1.4,0.2] · [0.19,0.94,0.053,0.047] + 0.038)=4.417\n",
    "\\end{equation*}"
   ]
  },
  {
   "cell_type": "markdown",
   "id": "9c0b4f14",
   "metadata": {},
   "source": [
    "\\begin{equation*}\n",
    "\\ P(0|x)=\\sigma(z) = \n",
    "\\frac{1}{1+e^{-z}} =\n",
    "\\frac{1}{1+82.26} =\n",
    "\\frac{1}{83.26}= 0.012 =>  y = 0\n",
    "\\end{equation*}"
   ]
  },
  {
   "cell_type": "markdown",
   "id": "5b58b06d",
   "metadata": {},
   "source": [
    "\\begin{equation*}\n",
    "\\ LCE(\\sigma(z) | y) = -[ylog(\\sigma(z)) + (1-y)log(1-\\sigma(z))] = -[ylog(0.012)]=1.92\n",
    "\\end{equation*}"
   ]
  },
  {
   "cell_type": "markdown",
   "id": "5c22121c",
   "metadata": {},
   "source": [
    "## Datensatz 4\n",
    "### Erste Iteration"
   ]
  },
  {
   "cell_type": "markdown",
   "id": "f3c4328a",
   "metadata": {},
   "source": [
    "\\begin{align}\n",
    "\\nabla w,b = \\begin{vmatrix}\n",
    "\\frac{\\partial LCE}{\\partial w1}\\\\\n",
    "\\frac{\\partial LCE}{\\partial w2}\\\\\n",
    "\\frac{\\partial LCE}{\\partial w3}\\\\\n",
    "\\frac{\\partial LCE}{\\partial w4}\\\\\n",
    "\\frac{\\partial LCE}{\\partial b}\n",
    "\\end{vmatrix}=\n",
    "\\begin{vmatrix}\n",
    "(\\sigma(z)-y)x1\\\\\n",
    "(\\sigma(z)-y)x2\\\\\n",
    "(\\sigma(z)-y)x3\\\\\n",
    "(\\sigma(z)-y)x4\\\\\n",
    "(\\sigma(z)-y)\n",
    "\\end{vmatrix}=\n",
    "\\begin{vmatrix}\n",
    "(\\sigma(0)-1)x1\\\\\n",
    "(\\sigma(0)-1)x2\\\\\n",
    "(\\sigma(0)-1)x3\\\\\n",
    "(\\sigma(0)-1)x4\\\\\n",
    "(\\sigma(0)-1)\n",
    "\\end{vmatrix}=\n",
    "\\begin{vmatrix}\n",
    "-0.5x1\\\\\n",
    "-0.5x2\\\\\n",
    "-0.5x3\\\\\n",
    "-0.5x4\\\\\n",
    "-0.5\n",
    "\\end{vmatrix}=\n",
    " \\begin{vmatrix}\n",
    "-0.5 \\times 5.4\\\\\n",
    "-0.5 \\times 3.9\\\\\n",
    "-0.5 \\times 1.7\\\\\n",
    "-0.5 \\times 0.4\\\\\n",
    "-0.5\n",
    "\\end{vmatrix}=\n",
    "\\begin{vmatrix}\n",
    "-2.7\\\\\n",
    "-1.95\\\\\n",
    "-0.85\\\\\n",
    "-0.2\\\\\n",
    "-0.5\n",
    "\\end{vmatrix}\n",
    "\\end{align}"
   ]
  },
  {
   "cell_type": "markdown",
   "id": "4c2a6925",
   "metadata": {},
   "source": [
    "\\begin{align}\n",
    "\\Theta = \\begin{vmatrix}\n",
    "w1\\\\\n",
    "w2\\\\\n",
    "w3\\\\\n",
    "w4\\\\\n",
    "b\n",
    "\\end{vmatrix}-\n",
    "0.05 \\times\n",
    "\\begin{vmatrix}\n",
    "-2.7\\\\\n",
    "-1.95\\\\\n",
    "-0.85\\\\\n",
    "-0.2\\\\\n",
    "-0.5\n",
    "\\end{vmatrix}=\n",
    "\\begin{vmatrix}\n",
    "0.135\\\\\n",
    "0.097\\\\\n",
    "0.0425\\\\\n",
    "0.0025\\\\\n",
    "0.025\n",
    "\\end{vmatrix}\n",
    "\\end{align}"
   ]
  },
  {
   "cell_type": "markdown",
   "id": "23e2aa21",
   "metadata": {},
   "source": [
    "\\begin{equation*}\n",
    " z = (w· x+b) = ([5.4,3.9,1.7,0.7] · [0.135,0.097,0.0425,0.0025] + 0.025)=1.2263\n",
    "\\end{equation*}"
   ]
  },
  {
   "cell_type": "markdown",
   "id": "e9474ae4",
   "metadata": {},
   "source": [
    "\\begin{equation*}\n",
    "\\ P(0|x)=\\sigma(z) = \n",
    "\\frac{1}{1+e^{-z}} =\n",
    "\\frac{1}{1+3.38} =\n",
    "\\frac{1}{4.38}= 0.22 =>  y = 0\n",
    "\\end{equation*}"
   ]
  },
  {
   "cell_type": "markdown",
   "id": "fc4f7850",
   "metadata": {},
   "source": [
    "\\begin{equation*}\n",
    "\\ LCE(\\sigma(z) | y) = -[ylog(\\sigma(z)) + (1-y)log(1-\\sigma(z))] = -[ylog(0.22)]=0.65\n",
    "\\end{equation*}"
   ]
  },
  {
   "cell_type": "markdown",
   "id": "b131dd0a",
   "metadata": {},
   "source": [
    "### Zweite Iteration"
   ]
  },
  {
   "cell_type": "markdown",
   "id": "2bb6e136",
   "metadata": {},
   "source": [
    "\\begin{align}\n",
    "\\nabla w,b = \\begin{vmatrix}\n",
    "\\frac{\\partial LCE}{\\partial w1}\\\\\n",
    "\\frac{\\partial LCE}{\\partial w2}\\\\\n",
    "\\frac{\\partial LCE}{\\partial w3}\\\\\n",
    "\\frac{\\partial LCE}{\\partial w4}\\\\\n",
    "\\end{vmatrix}=\n",
    "\\begin{vmatrix}\n",
    "(\\sigma(z)-y)x1\\\\\n",
    "(\\sigma(z)-y)x2\\\\\n",
    "(\\sigma(z)-y)x3\\\\\n",
    "(\\sigma(z)-y)x4\\\\\n",
    "\\end{vmatrix}=\n",
    "\\begin{vmatrix}\n",
    "(\\sigma([0.135,0.097,0.0425,0.0025] \\times [5.4,3.9,1.7,0.4]+0.025)-1)x1\\\\\n",
    "(\\sigma([0.135,0.097,0.0425,0.0025] \\times [5.4,3.9,1.7,0.4]+0.025)-1)x2\\\\\n",
    "(\\sigma([0.135,0.097,0.0425,0.0025] \\times [5.4,3.9,1.7,0.4]+0.025)-1)x3\\\\\n",
    "(\\sigma([0.135,0.097,0.0425,0.0025] \\times [5.4,3.9,1.7,0.4]+0.025)-1)x4\\\\\n",
    "\\end{vmatrix}=\n",
    "\\begin{vmatrix}\n",
    "(\\sigma(1.21)-1)x1\\\\\n",
    "(\\sigma(1.21)-1)x2\\\\\n",
    "(\\sigma(1.21)-1)x3\\\\\n",
    "(\\sigma(1.21)-1)x4\\\\\n",
    "\\end{vmatrix}=\n",
    "\\begin{vmatrix}\n",
    "-0.22x1\\\\\n",
    "-0.22x2\\\\\n",
    "-0.22x3\\\\\n",
    "-0.22x4\\\\\n",
    "-0.22\n",
    "\\end{vmatrix}=\n",
    "\\begin{vmatrix}\n",
    "-1.188\\\\\n",
    "-0.858\\\\\n",
    "-0.374\\\\\n",
    "-0.088\\\\\n",
    "-0.22\n",
    "\\end{vmatrix}\n",
    "\\end{align}"
   ]
  },
  {
   "cell_type": "markdown",
   "id": "a9e6738d",
   "metadata": {},
   "source": [
    "\\begin{align}\n",
    "\\Theta = \\begin{vmatrix}\n",
    "0.135\\\\\n",
    "0.097\\\\\n",
    "0.0425\\\\\n",
    "0.0025\\\\\n",
    "0.025\n",
    "\\end{vmatrix}-\n",
    "0.05 \\times\n",
    "\\begin{vmatrix}\n",
    "-1.188\\\\\n",
    "-0.858\\\\\n",
    "-0.374\\\\\n",
    "-0.088\\\\\n",
    "-0.22\n",
    "\\end{vmatrix}=\n",
    "\\begin{vmatrix}\n",
    "0.229\\\\\n",
    "0.139\\\\\n",
    "0.0425\\\\\n",
    "0.0612\\\\\n",
    "0.036\n",
    "\\end{vmatrix}\n",
    "\\end{align}"
   ]
  },
  {
   "cell_type": "markdown",
   "id": "e40198c2",
   "metadata": {},
   "source": [
    "\\begin{equation*}\n",
    " z = (w· x+b) = ([5.4,3.9,1.7,0.7] · [0.229,0.139,0.0425,0.00612] + 0.036)=1.89\n",
    "\\end{equation*}"
   ]
  },
  {
   "cell_type": "markdown",
   "id": "5901ba3e",
   "metadata": {},
   "source": [
    "\\begin{equation*}\n",
    "\\ P(0|x)=\\sigma(z) = \n",
    "\\frac{1}{1+e^{-z}} =\n",
    "\\frac{1}{1+6.61} =\n",
    "\\frac{1}{7.61}= 0.13 =>  y = 0\n",
    "\\end{equation*}"
   ]
  },
  {
   "cell_type": "markdown",
   "id": "29348cec",
   "metadata": {},
   "source": [
    "\\begin{equation*}\n",
    "\\ LCE(\\sigma(z) | y) = -[ylog(\\sigma(z)) + (1-y)log(1-\\sigma(z))] = -[ylog(0.13)]=0.88\n",
    "\\end{equation*}"
   ]
  },
  {
   "cell_type": "code",
   "execution_count": null,
   "id": "fabe8b1e",
   "metadata": {},
   "outputs": [],
   "source": []
  }
 ],
 "metadata": {
  "kernelspec": {
   "display_name": "Python 3",
   "language": "python",
   "name": "python3"
  },
  "language_info": {
   "codemirror_mode": {
    "name": "ipython",
    "version": 3
   },
   "file_extension": ".py",
   "mimetype": "text/x-python",
   "name": "python",
   "nbconvert_exporter": "python",
   "pygments_lexer": "ipython3",
   "version": "3.9.2"
  }
 },
 "nbformat": 4,
 "nbformat_minor": 5
}
