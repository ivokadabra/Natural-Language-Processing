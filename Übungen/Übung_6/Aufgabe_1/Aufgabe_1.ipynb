{
 "cells": [
  {
   "cell_type": "markdown",
   "id": "0ffc976a",
   "metadata": {},
   "source": [
    "## Aufgabe_1"
   ]
  },
  {
   "cell_type": "markdown",
   "id": "82e7acd3",
   "metadata": {},
   "source": [
    "-------------------------------------------------------------------------------------------------------------------------------\n",
    "• Starten Sie mit dem Gewichtsvektor 𝜃 = (𝛽, 𝑤1, 𝑤2, 𝑤3, 𝑤4\n",
    ") = (0,0,0,0,0).\n",
    "\n",
    "• Berechnen Sie für jeden Datensatz die gewichtete Feature-Summe 𝑧 gemäß\n",
    "Formel (5.2).\n",
    "\n",
    "• Transformieren Sie z in eine Wahrscheinlichkeit P(y = 1|x) gemäß Formel (5.4)\n",
    "\n",
    "• Bestimmen Sie die Klasse 𝑦̂ = {\n",
    "1 wenn P(y = 1|x) > 0.5\n",
    "0 𝑠𝑜𝑛𝑠}\n",
    "\n",
    "-------------------------------------------------------------------------------------------------------------------------------"
   ]
  },
  {
   "cell_type": "markdown",
   "id": "27d9f338",
   "metadata": {},
   "source": [
    " \\begin{equation*}\n",
    " z = (w· x+b) = ([x1,x2,x3,x4 ] · [0,0,0,0] +0)=0\n",
    "\\end{equation*}\n",
    "\n",
    "Die andere z der anderen Datenansätze sind auch 0 ."
   ]
  },
  {
   "cell_type": "markdown",
   "id": "9c4f69c6",
   "metadata": {},
   "source": [
    "## Tabelle für z"
   ]
  },
  {
   "cell_type": "markdown",
   "id": "9f4b056b",
   "metadata": {},
   "source": [
    "|     | x1   | x2   | x3   | x4   |\n",
    "|-----|------|------|------|------|\n",
    "| z   |   0  | 0    | 0    | 0    |\n"
   ]
  },
  {
   "cell_type": "markdown",
   "id": "4b3e0a6d",
   "metadata": {},
   "source": [
    "\\begin{equation*}\n",
    "\\ P(1|x)=\\sigma(z) = \n",
    "\\frac{1}{1+e^{-z}} =\n",
    "\\frac{1}{1+1} =\n",
    "\\frac{1}{2}= 0.5 =>  y = 0\n",
    "\\end{equation*}\n"
   ]
  },
  {
   "cell_type": "markdown",
   "id": "0611d011",
   "metadata": {},
   "source": [
    "--------------------------------------------------------------------------------------------------------------------------------\n",
    "Welche Datensätze werden richtig, welche werden falsch klassifiziert?\n",
    "\n",
    "Welchen Wert hat die Verlustfunktion 𝐿𝐶𝐸(𝑦̂, 𝑦) für jeden individuellen Datensatz und\n",
    "gemittelt über alle Datensätze?\n",
    "\n",
    "--------------------------------------------------------------------------------------------------------------------------------"
   ]
  },
  {
   "cell_type": "markdown",
   "id": "5125dc66",
   "metadata": {},
   "source": [
    "Die Datensätze mit Klasse versicolor sind richtig.\n",
    "Die Datensätze mit Klasse setosa sind falsch => 2 Falsche Klassen\n"
   ]
  },
  {
   "cell_type": "markdown",
   "id": "72368b13",
   "metadata": {},
   "source": [
    "#### Die folgende Ergebnis dient für alle Datensätze\n",
    "\n",
    "\\begin{equation*}\n",
    "\\ LCE(\\sigma(z) | y) = -[ylog(\\sigma(z)) + (1-y)log(1-\\sigma(z))] = -[0 + 1log(0.30)]=0.53\n",
    "\\end{equation*}"
   ]
  },
  {
   "cell_type": "markdown",
   "id": "e26d9f82",
   "metadata": {},
   "source": [
    "------------------------------------------------------------------------------------------------------------------------------\n",
    "Passen Sie nun den Gewichtsvektor 𝜃 an, indem Sie das Verfahren des Gradientenabstiegs anwenden. Berechnen Sie dazu in jeder Iteration des Verfahrens den Batch-Gradienten für den kompletten Datensatz gemäß Formel (5.21) und aktualisieren Sie den Gewichtsvektor mit der Lernrate 𝜂 = 0.05. Spielen Sie wenigstens zwei Iterationen des Gradientenabstiegs durch.\n",
    "\n",
    "------------------------------------------------------------------------------------------------------------------------------"
   ]
  },
  {
   "cell_type": "markdown",
   "id": "ecffd27b",
   "metadata": {},
   "source": [
    "## Datensatz 1\n",
    "### Erste Iteration"
   ]
  },
  {
   "cell_type": "markdown",
   "id": "7e15facd",
   "metadata": {},
   "source": [
    "\\begin{align}\n",
    "\\nabla w,b = \\begin{vmatrix}\n",
    "\\frac{\\partial LCE}{\\partial w1}\\\\\n",
    "\\frac{\\partial LCE}{\\partial w2}\\\\\n",
    "\\frac{\\partial LCE}{\\partial w3}\\\\\n",
    "\\frac{\\partial LCE}{\\partial w4}\\\\\n",
    "\\frac{\\partial LCE}{\\partial b}\n",
    "\\end{vmatrix}=\n",
    "\\begin{vmatrix}\n",
    "(\\sigma(z)-y)x1\\\\\n",
    "(\\sigma(z)-y)x2\\\\\n",
    "(\\sigma(z)-y)x3\\\\\n",
    "(\\sigma(z)-y)x4\\\\\n",
    "(\\sigma(z)-y)\n",
    "\\end{vmatrix}=\n",
    "\\begin{vmatrix}\n",
    "(\\sigma(0)-0)x1\\\\\n",
    "(\\sigma(0)-0)x2\\\\\n",
    "(\\sigma(0)-0)x3\\\\\n",
    "(\\sigma(0)-0)x4\\\\\n",
    "(\\sigma(0)-0)\n",
    "\\end{vmatrix}=\n",
    "\\begin{vmatrix}\n",
    "0.5x1\\\\\n",
    "0.5x2\\\\\n",
    "0.5x3\\\\\n",
    "0.5x4\\\\\n",
    "0.5\n",
    "\\end{vmatrix}=\n",
    " \\begin{vmatrix}\n",
    "0.5x1\\\\\n",
    "0.5x2\\\\\n",
    "0.5x3\\\\\n",
    "0.5x4\\\\\n",
    "0.5\n",
    "\\end{vmatrix}=\n",
    "\\begin{vmatrix}\n",
    "2.75\\\\\n",
    "1.15\\\\\n",
    "2.0\\\\\n",
    "0.65\\\\\n",
    "0.5\n",
    "\\end{vmatrix}\n",
    "\\end{align}"
   ]
  },
  {
   "cell_type": "markdown",
   "id": "fac694a9",
   "metadata": {},
   "source": [
    "\\begin{align}\n",
    "\\Theta = \\begin{vmatrix}\n",
    "w1\\\\\n",
    "w2\\\\\n",
    "w3\\\\\n",
    "w4\\\\\n",
    "b\n",
    "\\end{vmatrix}-\n",
    "0.05 \\times\n",
    "\\begin{vmatrix}\n",
    "2.75\\\\\n",
    "1.15\\\\\n",
    "2.0\\\\\n",
    "0.65\\\\\n",
    "0.5\n",
    "\\end{vmatrix}=\n",
    "\\begin{vmatrix}\n",
    "-0.13\\\\\n",
    "-0.05\\\\\n",
    "-0.1\\\\\n",
    "-0.03\\\\\n",
    "-0.025\n",
    "\\end{vmatrix}\n",
    "\\end{align}"
   ]
  },
  {
   "cell_type": "markdown",
   "id": "62cb0407",
   "metadata": {},
   "source": [
    "### Zweite Iteration"
   ]
  },
  {
   "cell_type": "markdown",
   "id": "dafc62e6",
   "metadata": {},
   "source": [
    "\\begin{align}\n",
    "\\nabla w,b = \\begin{vmatrix}\n",
    "\\frac{\\partial LCE}{\\partial w1}\\\\\n",
    "\\frac{\\partial LCE}{\\partial w2}\\\\\n",
    "\\frac{\\partial LCE}{\\partial w3}\\\\\n",
    "\\frac{\\partial LCE}{\\partial w4}\\\\\n",
    "\\end{vmatrix}=\n",
    "\\begin{vmatrix}\n",
    "(\\sigma(z)-y)x1\\\\\n",
    "(\\sigma(z)-y)x2\\\\\n",
    "(\\sigma(z)-y)x3\\\\\n",
    "(\\sigma(z)-y)x4\\\\\n",
    "\\end{vmatrix}=\n",
    "\\begin{vmatrix}\n",
    "(\\sigma(-0.13 \\times 5.5−0.025)-0)x1\\\\\n",
    "(\\sigma(-0.05 \\times 2.3−0.025)-0)x2\\\\\n",
    "(\\sigma(-0.1 \\times  4.0−0.025)-0)x3\\\\\n",
    "(\\sigma(-0.03 \\times 1.3−0.025)-0)x4\\\\\n",
    "\\end{vmatrix}=\n",
    "\\begin{vmatrix}\n",
    "(\\sigma(-0.74)-0)x1\\\\\n",
    "(\\sigma(-0.14)-0)x2\\\\\n",
    "(\\sigma(-0.425)-0)x3\\\\\n",
    "(\\sigma(-0.064)-0)x4\\\\\n",
    "\\end{vmatrix}=\n",
    "\\begin{vmatrix}\n",
    "0.32x1\\\\\n",
    "0.46x2\\\\\n",
    "0.39x3\\\\\n",
    "0.48x4\\\\\n",
    "\\end{vmatrix}=\n",
    "\\begin{vmatrix}\n",
    "1.76\\\\\n",
    "1.058\\\\\n",
    "1.56\\\\\n",
    "0.624\\\\\n",
    "\\end{vmatrix}\n",
    "\\end{align}"
   ]
  },
  {
   "cell_type": "markdown",
   "id": "1b03f76c",
   "metadata": {},
   "source": [
    "\\begin{align}\n",
    "\\Theta = \\begin{vmatrix}\n",
    "-0.13\\\\\n",
    "-0.05\\\\\n",
    "-0.1\\\\\n",
    "-0.03\\\\\n",
    "-0.025\n",
    "\\end{vmatrix}-\n",
    "0.05 \\times\n",
    "\\begin{vmatrix}\n",
    "1.76\\\\\n",
    "1.058\\\\\n",
    "1.56\\\\\n",
    "0.624\\\\\n",
    "\\end{vmatrix}=\n",
    "\\begin{vmatrix}\n",
    "-0.218\\\\\n",
    "-0.138\\\\\n",
    "-0.1\\\\\n",
    "-0.178\\\\\n",
    "\\end{vmatrix}\n",
    "\\end{align}"
   ]
  },
  {
   "cell_type": "code",
   "execution_count": null,
   "id": "8520a91e",
   "metadata": {},
   "outputs": [],
   "source": []
  }
 ],
 "metadata": {
  "kernelspec": {
   "display_name": "Python 3",
   "language": "python",
   "name": "python3"
  },
  "language_info": {
   "codemirror_mode": {
    "name": "ipython",
    "version": 3
   },
   "file_extension": ".py",
   "mimetype": "text/x-python",
   "name": "python",
   "nbconvert_exporter": "python",
   "pygments_lexer": "ipython3",
   "version": "3.9.2"
  }
 },
 "nbformat": 4,
 "nbformat_minor": 5
}
