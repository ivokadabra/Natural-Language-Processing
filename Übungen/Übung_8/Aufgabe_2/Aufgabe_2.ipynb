{
 "cells": [
  {
   "cell_type": "code",
   "execution_count": 115,
   "id": "794f8f7b",
   "metadata": {},
   "outputs": [],
   "source": [
    "import nltk\n",
    "import random"
   ]
  },
  {
   "cell_type": "code",
   "execution_count": 90,
   "id": "1f31b577",
   "metadata": {},
   "outputs": [],
   "source": [
    "def zeichen_entfernen(tokens):\n",
    "    datensatz=[i.lower() for i in tokens if i.isalpha()]\n",
    "    datensatz.append(\"</s>\")\n",
    "    datensatz.insert(0,\"<s>\")\n",
    "    \n",
    "    return datensatz"
   ]
  },
  {
   "cell_type": "code",
   "execution_count": 91,
   "id": "bfdab2a6",
   "metadata": {},
   "outputs": [],
   "source": [
    "sentence=\"Der Hund jagt die Katze. Die Katze faucht und der Hund bellt. Die Katze jagt die Maus. Wenn die Maus piept und der Hund bellt, faucht die Katze. Die Maus jagt die Katze in das Haus, wo der Hund bellt.\""
   ]
  },
  {
   "cell_type": "code",
   "execution_count": 92,
   "id": "481369ef",
   "metadata": {},
   "outputs": [],
   "source": [
    "tokens=nltk.word_tokenize(sentence)"
   ]
  },
  {
   "cell_type": "code",
   "execution_count": 99,
   "id": "b13c934c",
   "metadata": {},
   "outputs": [],
   "source": [
    "datasatz=zeichen_entfernen(tokens)"
   ]
  },
  {
   "cell_type": "code",
   "execution_count": 147,
   "id": "9442f908",
   "metadata": {},
   "outputs": [],
   "source": [
    "def negativ_ziehen(datasatz):\n",
    "    Pwsort={}\n",
    "    Pw=[{\"word\":i , \"p\":pow(datasatz.count(i)/len(datasatz),0.75)} for i in set(datasatz) ]\n",
    "    for i in set(datasatz):\n",
    "        Pwsort[i]=pow(datasatz.count(i)/len(datasatz),0.75)\n",
    "    for key, value in sorted(Pwsort.items(), key=lambda item: item[1],reverse=True):\n",
    "          print(\"%s: %s\" % (key, value))\n",
    "        \n",
    "  \n",
    "    return Pw,Pwsort"
   ]
  },
  {
   "cell_type": "code",
   "execution_count": 150,
   "id": "01e69c4b",
   "metadata": {},
   "outputs": [
    {
     "name": "stdout",
     "output_type": "stream",
     "text": [
      "die: 0.28832381943191343\n",
      "katze: 0.2026704983791064\n",
      "der: 0.17143836874659563\n",
      "hund: 0.17143836874659563\n",
      "bellt: 0.13816688716197636\n",
      "jagt: 0.13816688716197636\n",
      "maus: 0.13816688716197636\n",
      "faucht: 0.10193786394895582\n",
      "und: 0.10193786394895582\n",
      "das: 0.06061261654813882\n",
      "wenn: 0.06061261654813882\n",
      "haus: 0.06061261654813882\n",
      "<s>: 0.06061261654813882\n",
      "piept: 0.06061261654813882\n",
      "wo: 0.06061261654813882\n",
      "</s>: 0.06061261654813882\n",
      "in: 0.06061261654813882\n"
     ]
    }
   ],
   "source": [
    "Pneg,Pneg_sorted=negativ_ziehen(datasatz)"
   ]
  },
  {
   "cell_type": "code",
   "execution_count": 137,
   "id": "5061a655",
   "metadata": {},
   "outputs": [],
   "source": [
    "L=2\n",
    "k=3\n",
    "d=5\n",
    "n=0.5"
   ]
  },
  {
   "cell_type": "code",
   "execution_count": 120,
   "id": "71f3f47a",
   "metadata": {},
   "outputs": [
    {
     "name": "stdout",
     "output_type": "stream",
     "text": [
      "[-1, 0, 0, 0, -1]\n",
      "[-1, 0, -1, -1, 0]\n"
     ]
    }
   ],
   "source": [
    "kontext_vec=[random.randrange(-1.0, 1.0) for i in range(5)]\n",
    "print(kontext_vec)\n",
    "word_vec=[random.randrange(-1.0, 1.0) for i in range(5)]\n",
    "print(word_vec)"
   ]
  },
  {
   "cell_type": "code",
   "execution_count": null,
   "id": "93fcd12d",
   "metadata": {},
   "outputs": [],
   "source": []
  }
 ],
 "metadata": {
  "kernelspec": {
   "display_name": "Python 3",
   "language": "python",
   "name": "python3"
  },
  "language_info": {
   "codemirror_mode": {
    "name": "ipython",
    "version": 3
   },
   "file_extension": ".py",
   "mimetype": "text/x-python",
   "name": "python",
   "nbconvert_exporter": "python",
   "pygments_lexer": "ipython3",
   "version": "3.9.2"
  }
 },
 "nbformat": 4,
 "nbformat_minor": 5
}
