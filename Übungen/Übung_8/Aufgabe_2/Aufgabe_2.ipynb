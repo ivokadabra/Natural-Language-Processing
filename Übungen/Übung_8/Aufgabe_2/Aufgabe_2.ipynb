{
 "cells": [
  {
   "cell_type": "code",
   "execution_count": 348,
   "id": "794f8f7b",
   "metadata": {},
   "outputs": [],
   "source": [
    "import nltk\n",
    "import random\n",
    "import numpy as np\n",
    "import math\n",
    "import matplotlib.pyplot as plt\n",
    "import pandas as pd\n",
    "import numpy as np\n",
    "import seaborn as sns\n",
    "%matplotlib inline"
   ]
  },
  {
   "cell_type": "code",
   "execution_count": 349,
   "id": "1f31b577",
   "metadata": {},
   "outputs": [],
   "source": [
    "def zeichen_entfernen(tokens):\n",
    "    datensatz=[i.lower() for i in tokens if i.isalpha()]\n",
    "    datensatz.append(\"</s>\")\n",
    "    datensatz.insert(0,\"<s>\")\n",
    "    \n",
    "    return datensatz"
   ]
  },
  {
   "cell_type": "code",
   "execution_count": 350,
   "id": "bfdab2a6",
   "metadata": {},
   "outputs": [],
   "source": [
    "sentence=\"Der Hund jagt die Katze. Die Katze faucht und der Hund bellt. Die Katze jagt die Maus. Wenn die Maus piept und der Hund bellt, faucht die Katze. Die Maus jagt die Katze in das Haus, wo der Hund bellt.\""
   ]
  },
  {
   "cell_type": "code",
   "execution_count": 351,
   "id": "481369ef",
   "metadata": {},
   "outputs": [],
   "source": [
    "tokens=nltk.word_tokenize(sentence)"
   ]
  },
  {
   "cell_type": "code",
   "execution_count": 352,
   "id": "b13c934c",
   "metadata": {},
   "outputs": [],
   "source": [
    "datasatz=zeichen_entfernen(tokens)"
   ]
  },
  {
   "cell_type": "code",
   "execution_count": 353,
   "id": "9442f908",
   "metadata": {},
   "outputs": [],
   "source": [
    "def negativ_ziehen(datasatz):\n",
    "    Pwsort={}\n",
    "    Pw=[{\"word\":i , \"p\":pow(datasatz.count(i)/len(datasatz),0.75)} for i in set(datasatz) ]\n",
    "    for i in set(datasatz):\n",
    "        Pwsort[i]=pow(datasatz.count(i)/len(datasatz),0.75)\n",
    "    \n",
    "    #for key, value in sorted(Pwsort.items(), key=lambda item: item[1],reverse=True):\n",
    "          #print(\"%s: %s\" % (key, value))\n",
    "        \n",
    "    \n",
    "    p=sorted(Pwsort.items(), key=lambda item: item[1],reverse=True)\n",
    "    print(p)\n",
    "    \n",
    "    return Pw,p"
   ]
  },
  {
   "cell_type": "code",
   "execution_count": 354,
   "id": "01e69c4b",
   "metadata": {},
   "outputs": [
    {
     "name": "stdout",
     "output_type": "stream",
     "text": [
      "[('die', 0.28832381943191343), ('katze', 0.2026704983791064), ('hund', 0.17143836874659563), ('der', 0.17143836874659563), ('jagt', 0.13816688716197636), ('maus', 0.13816688716197636), ('bellt', 0.13816688716197636), ('faucht', 0.10193786394895582), ('und', 0.10193786394895582), ('<s>', 0.06061261654813882), ('</s>', 0.06061261654813882), ('in', 0.06061261654813882), ('piept', 0.06061261654813882), ('wo', 0.06061261654813882), ('wenn', 0.06061261654813882), ('das', 0.06061261654813882), ('haus', 0.06061261654813882)]\n"
     ]
    }
   ],
   "source": [
    "Pneg,Pneg_sorted=negativ_ziehen(datasatz)"
   ]
  },
  {
   "cell_type": "code",
   "execution_count": 355,
   "id": "5061a655",
   "metadata": {},
   "outputs": [],
   "source": [
    "L=2\n",
    "k=3\n",
    "d=5\n",
    "n=0.5"
   ]
  },
  {
   "cell_type": "code",
   "execution_count": 356,
   "id": "71f3f47a",
   "metadata": {},
   "outputs": [],
   "source": [
    "def kontext_vec():\n",
    "\n",
    "    kontext_vec=[random.randrange(-1.0, 1.0) for i in range(5)]\n",
    "    print(kontext_vec)\n",
    "    return kontext_vec\n",
    "\n",
    "def word_vector():    \n",
    "    word_vec=[random.randrange(-1.0, 1.0) for i in range(5)]\n",
    "    print(word_vec)\n",
    "    return word_vec"
   ]
  },
  {
   "cell_type": "code",
   "execution_count": 357,
   "id": "93fcd12d",
   "metadata": {},
   "outputs": [
    {
     "name": "stdout",
     "output_type": "stream",
     "text": [
      "20\n"
     ]
    }
   ],
   "source": [
    "import random\n",
    "w_index=random.randrange(0, len(tokens))\n",
    "print(w_index)"
   ]
  },
  {
   "cell_type": "code",
   "execution_count": 358,
   "id": "a31fd323",
   "metadata": {},
   "outputs": [],
   "source": [
    "def gradient_positive(c_positive_vec,word_vec):\n",
    "    sigma=1/(1 + np.exp(-np.array(c_positive_vec)* np.array(word_vec)))\n",
    "    sigma= np.array(sigma)-1\n",
    "    t=n*np.array(sigma)*np.array(word_vec)\n",
    "    whole=np.array(c_positive_vec)-np.array(t)\n",
    "    return whole\n",
    "    "
   ]
  },
  {
   "cell_type": "code",
   "execution_count": 359,
   "id": "ea857476",
   "metadata": {},
   "outputs": [],
   "source": [
    "def gradient_negative(c_negative_vec,word_vec):\n",
    "    sigma=1/(1 + np.exp(-np.array(c_negative_vec)* np.array(word_vec)))\n",
    "    sigma= np.array(sigma)\n",
    "    t=n*np.array(sigma)*np.array(word_vec)\n",
    "    whole=np.array(c_negative_vec)-np.array(t)\n",
    "    return whole"
   ]
  },
  {
   "cell_type": "code",
   "execution_count": 360,
   "id": "df48837b",
   "metadata": {},
   "outputs": [],
   "source": [
    "def gradient_word(c_positive_vec,word_vec,c_negative_vec):\n",
    "    sigma=1/(1 + np.exp(-np.array(c_positive_vec)* np.array(c_positive_vec)))\n",
    "    sigma= np.array(sigma)-1\n",
    "    t=n*np.array(sigma)*np.array(word_vec)\n",
    "    whole=np.array(word_vec)-np.array(t)\n",
    "    #print(whole)\n",
    "    all_negative=[0,0,0,0,0]\n",
    "    all_negative=np.array(c_negative_vec)*3\n",
    "    \n",
    "    #print(all_negative)\n",
    "    \n",
    "    \n",
    "    w_vec=np.array(whole)-np.array(all_negative)\n",
    "    #print(w_vec)\n",
    "    return w_vec\n",
    "    "
   ]
  },
  {
   "cell_type": "code",
   "execution_count": 361,
   "id": "56b497ef",
   "metadata": {},
   "outputs": [
    {
     "name": "stdout",
     "output_type": "stream",
     "text": [
      "[0, -1, -1, 0, 0]\n",
      "[-1, -1, 0, 0, -1]\n",
      "[-1, 0, 0, -1, 0]\n",
      "Iteration Nummer\n",
      "1\n",
      "[-0.25 -1.   -1.   -0.25  0.  ]\n",
      "[-0.63447071 -1.          0.          0.25       -1.        ]\n",
      "[ 0.66122209  3.          0.         -1.99219004  3.        ]\n",
      "---------------------------------------------------\n",
      "Iteration Nummer\n",
      "2\n",
      "[-0.07106255  0.42886119 -1.         -0.62652354  0.75      ]\n",
      "[-0.76560102 -1.07113881  0.          0.62652354 -1.07113881]\n",
      "[ 3.1229133   6.89463948  0.         -4.27329452  6.75787024]\n",
      "---------------------------------------------------\n",
      "Iteration Nummer\n",
      "3\n",
      "[ 0.79594244  0.5992073  -1.         -0.7639634   0.77112887]\n",
      "[-0.89655856 -1.07327627  0.          0.7639634  -1.07356417]\n",
      "[ 6.35396446 11.53197065  0.         -7.33030837 11.18001407]\n",
      "---------------------------------------------------\n",
      "Iteration Nummer\n",
      "4\n",
      "[ 0.81602708  0.60495439 -1.         -0.77746554  0.77213622]\n",
      "[-0.90718807 -1.07330057  0.          0.77746554 -1.07359843]\n",
      "[ 10.15384556  17.11313107   0.         -10.95769799  16.38646287]\n",
      "---------------------------------------------------\n",
      "Iteration Nummer\n",
      "5\n",
      "[ 0.81730648  0.6052274  -1.         -0.77855886  0.77216244]\n",
      "[-0.90769515 -1.07330066  0.          0.77855886 -1.07359862]\n",
      "[ 14.59773918  23.83639322   0.         -15.22706334  22.51754024]\n",
      "---------------------------------------------------\n"
     ]
    },
    {
     "data": {
      "text/plain": [
       "{'hund': array([-0.22324862,  1.        , -1.        , -1.99219004,  2.        ]),\n",
       " 'katze': array([ 34.79929592,  61.90806116,  -1.        , -39.78055427,\n",
       "         59.54045123]),\n",
       " 'die': array([ 20.20078441,  38.07139502,  -1.        , -24.55349093,\n",
       "         37.02288497])}"
      ]
     },
     "execution_count": 361,
     "metadata": {},
     "output_type": "execute_result"
    }
   ],
   "source": [
    "c_positive_vec=kontext_vec()\n",
    "c_negative_vec=kontext_vec()\n",
    "word_vec=word_vector()\n",
    "wc={}\n",
    "\n",
    "w_all=[0,0,0,0,0]\n",
    "c_all=[0,0,0,0,0]\n",
    "\n",
    "for i in range(5):\n",
    "    w_index=random.randrange(0, len(datasatz))\n",
    "    print(\"Iteration Nummer\")\n",
    "    print(i+1)\n",
    "    wort=datasatz[w_index]\n",
    "    c_positive=[datasatz[i] for i in range(w_index-2,w_index+2)]\n",
    "    #print(c_positive)\n",
    "    c_negative=[Pneg_sorted[i] for i in range(0,len(Pneg_sorted)) if Pneg_sorted[i][0] not in c_positive]\n",
    "    c_negative=c_negative[0:8]\n",
    "   # print(c_negative)\n",
    "    c_positive_vec=gradient_positive(c_positive_vec,word_vec)\n",
    "    c_negative_vec=gradient_negative(c_negative_vec,word_vec)\n",
    "    word_vec=gradient_word(c_positive_vec,word_vec,c_negative_vec)\n",
    "     \n",
    "    c_all= np.array(c_positive_vec)+ np.array(c_negative_vec) \n",
    "    w_all= np.array(w_all)+ np.array(word_vec) \n",
    "        \n",
    "        \n",
    "    print(c_positive_vec)\n",
    "    print(c_negative_vec)\n",
    "    print(word_vec)\n",
    "    wc[datasatz[w_index]]=np.array(w_all)+np.array(c_all)\n",
    "    \n",
    "    print(\"---------------------------------------------------\")\n",
    "    \n",
    "\n",
    "wc"
   ]
  },
  {
   "cell_type": "code",
   "execution_count": 362,
   "id": "9fae154d",
   "metadata": {},
   "outputs": [
    {
     "name": "stdout",
     "output_type": "stream",
     "text": [
      "{'hund': array([-0.22324862,  1.        , -1.        , -1.99219004,  2.        ]), 'katze': array([ 34.79929592,  61.90806116,  -1.        , -39.78055427,\n",
      "        59.54045123]), 'die': array([ 20.20078441,  38.07139502,  -1.        , -24.55349093,\n",
      "        37.02288497])}\n"
     ]
    },
    {
     "data": {
      "text/html": [
       "<div>\n",
       "<style scoped>\n",
       "    .dataframe tbody tr th:only-of-type {\n",
       "        vertical-align: middle;\n",
       "    }\n",
       "\n",
       "    .dataframe tbody tr th {\n",
       "        vertical-align: top;\n",
       "    }\n",
       "\n",
       "    .dataframe thead th {\n",
       "        text-align: right;\n",
       "    }\n",
       "</style>\n",
       "<table border=\"1\" class=\"dataframe\">\n",
       "  <thead>\n",
       "    <tr style=\"text-align: right;\">\n",
       "      <th></th>\n",
       "      <th>d1</th>\n",
       "      <th>d2</th>\n",
       "      <th>d3</th>\n",
       "      <th>d4</th>\n",
       "      <th>d5</th>\n",
       "    </tr>\n",
       "  </thead>\n",
       "  <tbody>\n",
       "    <tr>\n",
       "      <th>0</th>\n",
       "      <td>-0.223249</td>\n",
       "      <td>1.000000</td>\n",
       "      <td>-1.0</td>\n",
       "      <td>-1.992190</td>\n",
       "      <td>2.000000</td>\n",
       "    </tr>\n",
       "    <tr>\n",
       "      <th>1</th>\n",
       "      <td>34.799296</td>\n",
       "      <td>61.908061</td>\n",
       "      <td>-1.0</td>\n",
       "      <td>-39.780554</td>\n",
       "      <td>59.540451</td>\n",
       "    </tr>\n",
       "    <tr>\n",
       "      <th>2</th>\n",
       "      <td>20.200784</td>\n",
       "      <td>38.071395</td>\n",
       "      <td>-1.0</td>\n",
       "      <td>-24.553491</td>\n",
       "      <td>37.022885</td>\n",
       "    </tr>\n",
       "  </tbody>\n",
       "</table>\n",
       "</div>"
      ],
      "text/plain": [
       "          d1         d2   d3         d4         d5\n",
       "0  -0.223249   1.000000 -1.0  -1.992190   2.000000\n",
       "1  34.799296  61.908061 -1.0 -39.780554  59.540451\n",
       "2  20.200784  38.071395 -1.0 -24.553491  37.022885"
      ]
     },
     "execution_count": 362,
     "metadata": {},
     "output_type": "execute_result"
    }
   ],
   "source": [
    "cancer = wc\n",
    "print(cancer)\n",
    "df = pd.DataFrame(cancer.values(),columns=['d1','d2','d3','d4','d5'])\n",
    "df.head()"
   ]
  },
  {
   "cell_type": "code",
   "execution_count": 389,
   "id": "001dc4fb",
   "metadata": {},
   "outputs": [],
   "source": [
    "from sklearn.decomposition import PCA\n",
    "pca = PCA(n_components=2)\n",
    "principalComponents = pca.fit_transform(df)\n",
    "principalDf = pd.DataFrame(data = principalComponents\n",
    "             , columns = ['principal component 1', 'principal component 2'])"
   ]
  },
  {
   "cell_type": "code",
   "execution_count": 390,
   "id": "c255ddaa",
   "metadata": {},
   "outputs": [
    {
     "name": "stdout",
     "output_type": "stream",
     "text": [
      "['hund', 'katze', 'die']\n"
     ]
    },
    {
     "data": {
      "text/html": [
       "<div>\n",
       "<style scoped>\n",
       "    .dataframe tbody tr th:only-of-type {\n",
       "        vertical-align: middle;\n",
       "    }\n",
       "\n",
       "    .dataframe tbody tr th {\n",
       "        vertical-align: top;\n",
       "    }\n",
       "\n",
       "    .dataframe thead th {\n",
       "        text-align: right;\n",
       "    }\n",
       "</style>\n",
       "<table border=\"1\" class=\"dataframe\">\n",
       "  <thead>\n",
       "    <tr style=\"text-align: right;\">\n",
       "      <th></th>\n",
       "      <th>principal component 1</th>\n",
       "      <th>principal component 2</th>\n",
       "      <th>target</th>\n",
       "    </tr>\n",
       "  </thead>\n",
       "  <tbody>\n",
       "    <tr>\n",
       "      <th>0</th>\n",
       "      <td>52.582095</td>\n",
       "      <td>-0.225962</td>\n",
       "      <td>hund</td>\n",
       "    </tr>\n",
       "    <tr>\n",
       "      <th>1</th>\n",
       "      <td>-45.780604</td>\n",
       "      <td>-0.344246</td>\n",
       "      <td>katze</td>\n",
       "    </tr>\n",
       "    <tr>\n",
       "      <th>2</th>\n",
       "      <td>-6.801491</td>\n",
       "      <td>0.570208</td>\n",
       "      <td>die</td>\n",
       "    </tr>\n",
       "  </tbody>\n",
       "</table>\n",
       "</div>"
      ],
      "text/plain": [
       "   principal component 1  principal component 2 target\n",
       "0              52.582095              -0.225962   hund\n",
       "1             -45.780604              -0.344246  katze\n",
       "2              -6.801491               0.570208    die"
      ]
     },
     "execution_count": 390,
     "metadata": {},
     "output_type": "execute_result"
    }
   ],
   "source": [
    "listofstrings=[i for i in wc.keys()]\n",
    "print(listofstrings)\n",
    "#listofobjects = [classthing(s) for s in listofstrings]\n",
    "\n",
    "objs = {'val':listofstrings} \n",
    "pf = pd.DataFrame(objs['val'],columns=['target'])\n",
    "pf.head()\n",
    "finalDf = pd.concat([principalDf, pf['target']], axis = 1)\n",
    "finalDf.head()"
   ]
  },
  {
   "cell_type": "code",
   "execution_count": 392,
   "id": "1d014ab1",
   "metadata": {},
   "outputs": [
    {
     "data": {
      "image/png": "[encoded data removed]",
      "text/plain": [
       "<Figure size 576x576 with 1 Axes>"
      ]
     },
     "metadata": {
      "needs_background": "light"
     },
     "output_type": "display_data"
    }
   ],
   "source": [
    "fig = plt.figure(figsize = (8,8))\n",
    "ax = fig.add_subplot(1,1,1) \n",
    "ax.set_xlabel('Principal Component 1', fontsize = 15)\n",
    "ax.set_ylabel('Principal Component 2', fontsize = 15)\n",
    "ax.set_title('2 component PCA', fontsize = 20)\n",
    "targets = listofstrings\n",
    "colors = ['r', 'g', 'b']\n",
    "for target, color in zip(listofstrings,colors):\n",
    "    indicesToKeep = finalDf['target'] == target\n",
    "    ax.scatter(finalDf.loc[indicesToKeep, 'principal component 1']\n",
    "               , finalDf.loc[indicesToKeep, 'principal component 2']\n",
    "               , c = color\n",
    "               , s = 50)\n",
    "ax.legend(targets)\n",
    "ax.grid()"
   ]
  },
  {
   "cell_type": "code",
   "execution_count": null,
   "id": "da8f400c",
   "metadata": {},
   "outputs": [],
   "source": []
  }
 ],
 "metadata": {
  "kernelspec": {
   "display_name": "Python 3",
   "language": "python",
   "name": "python3"
  },
  "language_info": {
   "codemirror_mode": {
    "name": "ipython",
    "version": 3
   },
   "file_extension": ".py",
   "mimetype": "text/x-python",
   "name": "python",
   "nbconvert_exporter": "python",
   "pygments_lexer": "ipython3",
   "version": "3.9.2"
  }
 },
 "nbformat": 4,
 "nbformat_minor": 5
}
