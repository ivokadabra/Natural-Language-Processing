{
 "cells": [
  {
   "cell_type": "code",
   "execution_count": 1,
   "id": "e9b730f8",
   "metadata": {},
   "outputs": [],
   "source": [
    "from gensim.test.utils import datapath\n",
    "from gensim import utils\n",
    "\n",
    "class MyCorpus:\n",
    "    \"\"\"An iterator that yields sentences (lists of str).\"\"\"\n",
    "\n",
    "    def __iter__(self):\n",
    "        corpus_path = datapath('lee_background.cor')\n",
    "        for line in open(corpus_path):\n",
    "            # assume there's one document per line, tokens separated by whitespace\n",
    "            yield utils.simple_preprocess(line)"
   ]
  },
  {
   "cell_type": "code",
   "execution_count": 2,
   "id": "18269827",
   "metadata": {},
   "outputs": [],
   "source": [
    "import gensim.models\n",
    "\n",
    "sentences = MyCorpus()\n",
    "model = gensim.models.Word2Vec(sentences=sentences)\n"
   ]
  },
  {
   "cell_type": "code",
   "execution_count": 50,
   "id": "50dc217c",
   "metadata": {},
   "outputs": [
    {
     "name": "stdout",
     "output_type": "stream",
     "text": [
      "[('sydney', 0.9982026815414429), ('first', 0.9980383515357971), ('about', 0.9980177283287048), ('two', 0.9980082511901855), ('at', 0.9979854822158813), ('yesterday', 0.9979825615882874), ('australian', 0.9979723691940308), ('an', 0.9979722499847412), ('up', 0.9979718327522278), ('from', 0.9979608654975891)]\n"
     ]
    }
   ],
   "source": [
    "print(model.wv.most_similar(positive=['yes'], topn=10))"
   ]
  },
  {
   "cell_type": "code",
   "execution_count": 20,
   "id": "280efaae",
   "metadata": {},
   "outputs": [
    {
     "name": "stdout",
     "output_type": "stream",
     "text": [
      "car\n"
     ]
    }
   ],
   "source": [
    "print(model.wv.doesnt_match(['orange', 'car', 'apple', 'banana', 'tomato', 'car']))"
   ]
  },
  {
   "cell_type": "code",
   "execution_count": 33,
   "id": "daa46af1",
   "metadata": {},
   "outputs": [
    {
     "name": "stdout",
     "output_type": "stream",
     "text": [
      "'car'\t'table'\t0.99\n",
      "'car'\t'key'\t1.00\n",
      "'car'\t'the'\t1.00\n"
     ]
    }
   ],
   "source": [
    "pairs = [\n",
    "    ('car', 'table'),   \n",
    "    ('car', 'key'),\n",
    "    ('car', 'the') \n",
    "    \n",
    "]\n",
    "\n",
    "for w1, w2 in pairs:\n",
    "    print('%r\\t%r\\t%.2f' % (w1, w2, model.wv.similarity(w1, w2)))\n"
   ]
  },
  {
   "cell_type": "code",
   "execution_count": 74,
   "id": "8cadb27f",
   "metadata": {},
   "outputs": [
    {
     "data": {
      "text/plain": [
       "array([-0.02541555,  0.11548095,  0.06618542,  0.01153771, -0.0216995 ,\n",
       "       -0.17488171,  0.09586338,  0.24445441, -0.08807449, -0.06304163,\n",
       "       -0.01766565, -0.1289716 , -0.02969564,  0.04352896,  0.00951654,\n",
       "       -0.05636295,  0.00632363, -0.03823761, -0.03021255, -0.21041732],\n",
       "      dtype=float32)"
      ]
     },
     "execution_count": 74,
     "metadata": {},
     "output_type": "execute_result"
    }
   ],
   "source": [
    "vec_king = model.wv['car'][0:20]\n",
    "vec_king"
   ]
  },
  {
   "cell_type": "code",
   "execution_count": 75,
   "id": "14282f88",
   "metadata": {},
   "outputs": [
    {
     "data": {
      "image/png": "[encoded data removed]",
      "text/plain": [
       "<Figure size 432x288 with 1 Axes>"
      ]
     },
     "metadata": {
      "needs_background": "light"
     },
     "output_type": "display_data"
    }
   ],
   "source": [
    "fig = plt.figure()\n",
    "ax = fig.add_axes([0,0,1,1])\n",
    "langs = ['C', 'C++', 'Java', 'Python', 'PHP','C1', 'C++1', 'Java1', 'Python1', 'PHP1','C2', 'C++2', 'Java2', 'Python2', 'PHP2','C3', 'C++3', 'Java3', 'Python3', 'PHP3']\n",
    "students = vec_king\n",
    "ax.bar(langs,students)\n",
    "plt.show()"
   ]
  },
  {
   "cell_type": "code",
   "execution_count": null,
   "id": "e7936cbe",
   "metadata": {},
   "outputs": [],
   "source": []
  },
  {
   "cell_type": "code",
   "execution_count": null,
   "id": "9163b293",
   "metadata": {},
   "outputs": [],
   "source": []
  }
 ],
 "metadata": {
  "kernelspec": {
   "display_name": "Python 3",
   "language": "python",
   "name": "python3"
  },
  "language_info": {
   "codemirror_mode": {
    "name": "ipython",
    "version": 3
   },
   "file_extension": ".py",
   "mimetype": "text/x-python",
   "name": "python",
   "nbconvert_exporter": "python",
   "pygments_lexer": "ipython3",
   "version": "3.8.5"
  }
 },
 "nbformat": 4,
 "nbformat_minor": 5
}
