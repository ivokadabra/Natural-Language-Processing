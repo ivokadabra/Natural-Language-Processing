{
 "cells": [
  {
   "cell_type": "code",
   "execution_count": null,
   "id": "e9b730f8",
   "metadata": {},
   "outputs": [],
   "source": [
    "import gensim.downloader as api\n",
    "wv = api.load('word2vec-google-news-300')\n",
    "pairs = [\n",
    "    ('orange', 'apple'),  \n",
    "    ('orange', 'lemon'),  \n",
    "    ('orange', 'tomato'), \n",
    "    ('orange', 'banana'),    \n",
    "    ('orange', 'car'),\n",
    "]\n",
    "for w1, w2 in pairs:\n",
    "    print('%r\\t%r\\t%.2f' % (w1, w2, wv.similarity(w1, w2)))\n",
    "\n",
    "print(wv.most_similar(positive=['orange'], topn=5))\n",
    "print(wv.doesnt_match(['oragne', 'apple', 'lemon', 'tomato', 'banana', 'car']))"
   ]
  },
  {
   "cell_type": "code",
   "execution_count": null,
   "id": "b4ce7fc3",
   "metadata": {},
   "outputs": [],
   "source": []
  }
 ],
 "metadata": {
  "kernelspec": {
   "display_name": "Python 3",
   "language": "python",
   "name": "python3"
  },
  "language_info": {
   "codemirror_mode": {
    "name": "ipython",
    "version": 3
   },
   "file_extension": ".py",
   "mimetype": "text/x-python",
   "name": "python",
   "nbconvert_exporter": "python",
   "pygments_lexer": "ipython3",
   "version": "3.8.5"
  }
 },
 "nbformat": 4,
 "nbformat_minor": 5
}
