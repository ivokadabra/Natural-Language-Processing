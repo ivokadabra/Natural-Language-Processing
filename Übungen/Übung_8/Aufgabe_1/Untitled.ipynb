{
 "cells": [
  {
   "cell_type": "code",
   "execution_count": null,
   "id": "cc6885e7",
   "metadata": {},
   "outputs": [],
   "source": [
    "import gensim.downloader as api\n",
    "wv = api.load('word2vec-google-news-300')\n",
    "pairs = [\n",
    "    ('orange', 'apple'),  \n",
    "    ('orange', 'lemon'),  \n",
    "    ('orange', 'tomato'), \n",
    "    ('orange', 'banana'),    \n",
    "    ('orange', 'car'),\n",
    "]\n",
    "for w1, w2 in pairs:\n",
    "    print('%r\\t%r\\t%.2f' % (w1, w2, wv.similarity(w1, w2)))\n",
    "\n",
    "print(wv.most_similar(positive=['orange'], topn=5))\n",
    "print(wv.doesnt_match(['oragne', 'apple', 'lemon', 'tomato', 'banana', 'car']))"
   ]
  },
  {
   "cell_type": "code",
   "execution_count": null,
   "id": "29db8548",
   "metadata": {},
   "outputs": [],
   "source": []
  },
  {
   "cell_type": "code",
   "execution_count": null,
   "id": "5fca38ff",
   "metadata": {},
   "outputs": [],
   "source": [
    "#print(wv.most_similar(positive=['key'], topn=10))"
   ]
  },
  {
   "cell_type": "code",
   "execution_count": null,
   "id": "56ae9536",
   "metadata": {},
   "outputs": [],
   "source": [
    "#print(wv.doesnt_match(['orange', 'car', 'apple', 'banana', 'tomato', 'car']))"
   ]
  },
  {
   "cell_type": "code",
   "execution_count": null,
   "id": "4d0f47c7",
   "metadata": {},
   "outputs": [],
   "source": [
    "#vec_king = wv['car'][0:20]\n",
    "#vec_king"
   ]
  },
  {
   "cell_type": "code",
   "execution_count": null,
   "id": "1d233122",
   "metadata": {},
   "outputs": [],
   "source": []
  }
 ],
 "metadata": {
  "kernelspec": {
   "display_name": "Python 3",
   "language": "python",
   "name": "python3"
  },
  "language_info": {
   "codemirror_mode": {
    "name": "ipython",
    "version": 3
   },
   "file_extension": ".py",
   "mimetype": "text/x-python",
   "name": "python",
   "nbconvert_exporter": "python",
   "pygments_lexer": "ipython3",
   "version": "3.9.2"
  }
 },
 "nbformat": 4,
 "nbformat_minor": 5
}
