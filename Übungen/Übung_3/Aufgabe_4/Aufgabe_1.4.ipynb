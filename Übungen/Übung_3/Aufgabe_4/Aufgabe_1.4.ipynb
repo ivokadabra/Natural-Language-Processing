{
 "cells": [
  {
   "cell_type": "code",
   "execution_count": 4,
   "id": "b141c277",
   "metadata": {},
   "outputs": [
    {
     "name": "stdout",
     "output_type": "stream",
     "text": [
      "['<s>', 'a', 'a', '<s>', 'a', 'b', '<s>', 'b', 'b', '<s>', 'b', 'a']\n"
     ]
    },
    {
     "data": {
      "text/plain": [
       "{('<s>', 'a'): 1,\n",
       " ('a', 'a'): 0.3333333333333333,\n",
       " ('a', '<s>'): 0.3333333333333333,\n",
       " ('a', 'b'): 0.3333333333333333,\n",
       " ('b', '<s>'): 0.5,\n",
       " ('<s>', 'b'): 1,\n",
       " ('b', 'b'): 0.25,\n",
       " ('b', 'a'): 0.25}"
      ]
     },
     "execution_count": 4,
     "metadata": {},
     "output_type": "execute_result"
    }
   ],
   "source": [
    "def calcProbability(listOfBigrams, unigramCounts, bigramCounts):\n",
    "    \n",
    "    listOfProb = {}\n",
    "\n",
    "    for bigram in listOfBigrams:\n",
    "        word1 = bigram[0]\n",
    "        word2 = bigram[1]\n",
    "        \n",
    "        if bigram[0]=='<s>' or bigram[1]=='</s>':\n",
    "            listOfProb[bigram]=1\n",
    "        else:\n",
    "            listOfProb[bigram] = (bigramCounts.get(bigram))/(unigramCounts.get(word1))\n",
    "    \n",
    "    return listOfProb\n",
    "\n",
    "\n",
    "\n",
    "def createBigram(data):\n",
    "    listOfBigrams = []\n",
    "    bigramCounts = {}\n",
    "    listOfUnigrams = []\n",
    "    unigramCounts = {}\n",
    "    for i in range(len(data)-1):\n",
    "        if i< len(data)-1:\n",
    "                listOfBigrams.append((data[i],data[i+1]))\n",
    "                if data[i] not in listOfUnigrams or i==0:\n",
    "                    listOfUnigrams.append(data[i])\n",
    "                    \n",
    "                    \n",
    "                \n",
    "                if (data[i],data[i+1]) in bigramCounts:\n",
    "                        bigramCounts[(data[i],data[i+1])]+=1;\n",
    "                        \n",
    "                else:\n",
    "                    bigramCounts[(data[i],data[i+1])]=1;\n",
    "                    \n",
    "                    \n",
    "        if data[i] in unigramCounts:\n",
    "             unigramCounts[data[i]] += 1\n",
    "        else:\n",
    "            unigramCounts[data[i]] = 1          \n",
    "                    \n",
    "    return listOfUnigrams, listOfBigrams , bigramCounts ,unigramCounts   \n",
    "\n",
    "\n",
    "def readData(data):\n",
    "    \n",
    "    dat=[]\n",
    "    for i in range(len(data)):\n",
    "        for word in data[i].split():\n",
    "            dat.append(word)\n",
    "    print(dat)\n",
    "    return dat\n",
    "\n",
    "\n",
    "data=['<s> a a','<s> a b','<s> b b','<s> b a']\n",
    "\n",
    "data_1=readData(data)\n",
    "\n",
    "listOfUnigrams,listOfBigrams , bigramCounts, unigramCounts =createBigram(data_1)\n",
    "\n",
    "bigramProb=calcProbability(listOfBigrams, unigramCounts, bigramCounts)\n",
    "\n",
    "bigramProb"
   ]
  }
 ],
 "metadata": {
  "kernelspec": {
   "display_name": "Python 3",
   "language": "python",
   "name": "python3"
  },
  "language_info": {
   "codemirror_mode": {
    "name": "ipython",
    "version": 3
   },
   "file_extension": ".py",
   "mimetype": "text/x-python",
   "name": "python",
   "nbconvert_exporter": "python",
   "pygments_lexer": "ipython3",
   "version": "3.9.2"
  }
 },
 "nbformat": 4,
 "nbformat_minor": 5
}
